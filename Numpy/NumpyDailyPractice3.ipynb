{
  "nbformat": 4,
  "nbformat_minor": 0,
  "metadata": {
    "colab": {
      "provenance": []
    },
    "kernelspec": {
      "name": "python3",
      "display_name": "Python 3"
    },
    "language_info": {
      "name": "python"
    }
  },
  "cells": [
    {
      "cell_type": "code",
      "execution_count": null,
      "metadata": {
        "id": "oz82fR81lZMJ"
      },
      "outputs": [],
      "source": []
    },
    {
      "cell_type": "markdown",
      "source": [
        "31. How to ignore all numpy warnings (not recommended)"
      ],
      "metadata": {
        "id": "irmsGnpulodN"
      }
    },
    {
      "cell_type": "code",
      "source": [
        "#using the seterr()\n",
        "import numpy as np\n",
        "defaults = np.seterr(all=\"ignore\")\n",
        "Z = np.ones(1) / 0"
      ],
      "metadata": {
        "id": "O-7asGl9maNO"
      },
      "execution_count": 3,
      "outputs": []
    },
    {
      "cell_type": "markdown",
      "source": [
        ". Is the following expressions true? (★☆☆)\n",
        "np.sqrt(-1) == np.emath.sqrt(-1)\n",
        "\n",
        "FALSE"
      ],
      "metadata": {
        "id": "dRK1wu-JmymP"
      }
    },
    {
      "cell_type": "code",
      "source": [
        "np.emath.sqrt(-1)"
      ],
      "metadata": {
        "colab": {
          "base_uri": "https://localhost:8080/"
        },
        "id": "iCPAbOKzm5Ai",
        "outputId": "e9055a10-6276-4bc5-b4b7-f9df26b4a8cb"
      },
      "execution_count": 6,
      "outputs": [
        {
          "output_type": "execute_result",
          "data": {
            "text/plain": [
              "1j"
            ]
          },
          "metadata": {},
          "execution_count": 6
        }
      ]
    },
    {
      "cell_type": "code",
      "source": [
        "np.sqrt(-1)"
      ],
      "metadata": {
        "colab": {
          "base_uri": "https://localhost:8080/"
        },
        "id": "j71tO6bnnOCR",
        "outputId": "e6e8b493-04e4-455a-8f39-406c39ec577c"
      },
      "execution_count": 7,
      "outputs": [
        {
          "output_type": "execute_result",
          "data": {
            "text/plain": [
              "nan"
            ]
          },
          "metadata": {},
          "execution_count": 7
        }
      ]
    },
    {
      "cell_type": "markdown",
      "source": [
        "How to get the dates of yesterday, today and tomorrow"
      ],
      "metadata": {
        "id": "ikYywHYenS3Y"
      }
    },
    {
      "cell_type": "code",
      "source": [
        "# Import datetime and timedelta\n",
        "# class from datetime module\n",
        "from datetime import datetime, timedelta\n",
        "\n",
        "\n",
        "# Get today's date\n",
        "presentday = datetime.now() # or presentday = datetime.today()\n",
        "\n",
        "# Get Yesterday\n",
        "yesterday = presentday - timedelta(1)\n",
        "\n",
        "# Get Tomorrow\n",
        "tomorrow = presentday + timedelta(1)\n",
        "\n",
        "\n",
        "# strftime() is to format date according to\n",
        "# the need by converting them to string\n",
        "print(\"Yesterday = \", yesterday.strftime('%d-%m-%Y'))\n",
        "print(\"Today = \", presentday.strftime('%d-%m-%Y'))\n",
        "print(\"Tomorrow = \", tomorrow.strftime('%d-%m-%Y'))\n"
      ],
      "metadata": {
        "colab": {
          "base_uri": "https://localhost:8080/"
        },
        "id": "87N9cNgjoCeL",
        "outputId": "6107f5a1-cc30-4ca6-a200-8d13a9f1dcdc"
      },
      "execution_count": 8,
      "outputs": [
        {
          "output_type": "stream",
          "name": "stdout",
          "text": [
            "Yesterday =  15-02-2024\n",
            "Today =  16-02-2024\n",
            "Tomorrow =  17-02-2024\n"
          ]
        }
      ]
    },
    {
      "cell_type": "markdown",
      "source": [
        "34. How to get all the dates corresponding to the month of July 2016"
      ],
      "metadata": {
        "id": "EmaySXt8oa4h"
      }
    },
    {
      "cell_type": "code",
      "source": [
        "# Displaying the specified range of dates in July 2016 using NumPy's arange function\n",
        "print(\"July, 2016\")\n",
        "print(np.arange('2016-07', '2016-08', dtype='datetime64[D]'))"
      ],
      "metadata": {
        "colab": {
          "base_uri": "https://localhost:8080/"
        },
        "id": "DTlAq69io1CE",
        "outputId": "bb91eb1b-4afb-4b12-d701-a502f73afbb0"
      },
      "execution_count": 10,
      "outputs": [
        {
          "output_type": "stream",
          "name": "stdout",
          "text": [
            "July, 2016\n",
            "['2016-07-01' '2016-07-02' '2016-07-03' '2016-07-04' '2016-07-05'\n",
            " '2016-07-06' '2016-07-07' '2016-07-08' '2016-07-09' '2016-07-10'\n",
            " '2016-07-11' '2016-07-12' '2016-07-13' '2016-07-14' '2016-07-15'\n",
            " '2016-07-16' '2016-07-17' '2016-07-18' '2016-07-19' '2016-07-20'\n",
            " '2016-07-21' '2016-07-22' '2016-07-23' '2016-07-24' '2016-07-25'\n",
            " '2016-07-26' '2016-07-27' '2016-07-28' '2016-07-29' '2016-07-30'\n",
            " '2016-07-31']\n"
          ]
        }
      ]
    },
    {
      "cell_type": "markdown",
      "source": [
        "35. How to compute ((A+B)*(-A/2)) in place (without copy)?"
      ],
      "metadata": {
        "id": "C-ephnsXpdaE"
      }
    },
    {
      "cell_type": "code",
      "source": [
        "A = np.ones(3)*1\n",
        "B = np.ones(3)*2\n",
        "np.add(A,B,out=B)\n",
        "np.divide(A,2,out=A)\n",
        "np.negative(A,out=A)\n",
        "np.multiply(A,B,out=A)\n"
      ],
      "metadata": {
        "colab": {
          "base_uri": "https://localhost:8080/"
        },
        "id": "fne31GHWpe6c",
        "outputId": "f4773645-f0e8-4a09-fddd-6989ba5d8598"
      },
      "execution_count": 11,
      "outputs": [
        {
          "output_type": "execute_result",
          "data": {
            "text/plain": [
              "array([-1.5, -1.5, -1.5])"
            ]
          },
          "metadata": {},
          "execution_count": 11
        }
      ]
    },
    {
      "cell_type": "markdown",
      "source": [
        "36. Extract the integer part of a random array of positive numbers using 4 different methods"
      ],
      "metadata": {
        "id": "WWmjqquhtc79"
      }
    },
    {
      "cell_type": "code",
      "source": [
        "Z = np.random.uniform(0,10,10)\n",
        "print(Z)\n",
        "\n",
        "print(Z - Z%1)\n",
        "print(Z // 1)\n",
        "print(np.floor(Z))\n",
        "print(Z.astype(int))\n",
        "print(np.trunc(Z))"
      ],
      "metadata": {
        "colab": {
          "base_uri": "https://localhost:8080/"
        },
        "id": "8BbfmW_1tq4k",
        "outputId": "9ed3feec-00df-43c0-aac9-ddc54d03ff9a"
      },
      "execution_count": 13,
      "outputs": [
        {
          "output_type": "stream",
          "name": "stdout",
          "text": [
            "[5.85236499 0.19198622 9.15281346 7.59084417 3.97348435 2.66482275\n",
            " 4.97456246 4.92371383 7.82525219 6.49178909]\n",
            "[5. 0. 9. 7. 3. 2. 4. 4. 7. 6.]\n",
            "[5. 0. 9. 7. 3. 2. 4. 4. 7. 6.]\n",
            "[5. 0. 9. 7. 3. 2. 4. 4. 7. 6.]\n",
            "[5 0 9 7 3 2 4 4 7 6]\n",
            "[5. 0. 9. 7. 3. 2. 4. 4. 7. 6.]\n"
          ]
        }
      ]
    },
    {
      "cell_type": "markdown",
      "source": [
        "37. Create a 5x5 matrix with row values ranging from 0 to 4\n"
      ],
      "metadata": {
        "id": "uBlW44yLvJZf"
      }
    },
    {
      "cell_type": "code",
      "source": [
        "R = np.zeros((5,5))\n",
        "R += np.arange(5)\n",
        "print(R)"
      ],
      "metadata": {
        "colab": {
          "base_uri": "https://localhost:8080/"
        },
        "id": "6hhYGkGjvLLO",
        "outputId": "b96af237-dc85-4ea4-bc0c-42d8443fcc2b"
      },
      "execution_count": 14,
      "outputs": [
        {
          "output_type": "stream",
          "name": "stdout",
          "text": [
            "[[0. 1. 2. 3. 4.]\n",
            " [0. 1. 2. 3. 4.]\n",
            " [0. 1. 2. 3. 4.]\n",
            " [0. 1. 2. 3. 4.]\n",
            " [0. 1. 2. 3. 4.]]\n"
          ]
        }
      ]
    },
    {
      "cell_type": "markdown",
      "source": [
        "38. Consider a generator function that generates 10 integers and use it to build an array"
      ],
      "metadata": {
        "id": "sQ_LHxCkvc58"
      }
    },
    {
      "cell_type": "code",
      "source": [
        "# Creating a generator 'iterable' using a generator expression that yields values from 0 to 9\n",
        "i = (x for x in range(10))\n",
        "\n",
        "# Creating a NumPy array using np.fromiter() by converting the elements obtained from the iterable\n",
        "# Specifying the data type as np.int to create an array of integers\n",
        "print(np.fromiter(i, np.float32))"
      ],
      "metadata": {
        "colab": {
          "base_uri": "https://localhost:8080/"
        },
        "id": "gZYe8G2n3lTo",
        "outputId": "36b3de7f-b8d7-48c7-8cee-c04a361a3452"
      },
      "execution_count": 22,
      "outputs": [
        {
          "output_type": "stream",
          "name": "stdout",
          "text": [
            "[0. 1. 2. 3. 4. 5. 6. 7. 8. 9.]\n"
          ]
        }
      ]
    },
    {
      "cell_type": "markdown",
      "source": [
        "40. Create a random vector of size 10 and sort it (★★☆)\n"
      ],
      "metadata": {
        "id": "b6OldQ84vdZW"
      }
    },
    {
      "cell_type": "code",
      "source": [
        "Z = np.random.random(10)\n",
        "print (Z)\n",
        "Z.sort()\n",
        "print (\"sorted\")\n",
        "print(Z)"
      ],
      "metadata": {
        "colab": {
          "base_uri": "https://localhost:8080/"
        },
        "id": "YFu08z3o3tli",
        "outputId": "77c223a8-3eff-491a-9677-e620d88f18e3"
      },
      "execution_count": 21,
      "outputs": [
        {
          "output_type": "stream",
          "name": "stdout",
          "text": [
            "[0.93372768 0.19207424 0.47490038 0.28486721 0.86751119 0.25641844\n",
            " 0.39086035 0.30280033 0.41212101 0.83106937]\n",
            "sorted\n",
            "[0.19207424 0.25641844 0.28486721 0.30280033 0.39086035 0.41212101\n",
            " 0.47490038 0.83106937 0.86751119 0.93372768]\n"
          ]
        }
      ]
    },
    {
      "cell_type": "markdown",
      "source": [
        "39. Create a vector of size 10 with values ranging from 0 to 1, both excluded"
      ],
      "metadata": {
        "id": "WNzAQtDXvdeY"
      }
    },
    {
      "cell_type": "code",
      "source": [
        "Z = np.linspace(0,1,11,endpoint=False)[1:]\n",
        "print(Z)"
      ],
      "metadata": {
        "colab": {
          "base_uri": "https://localhost:8080/"
        },
        "id": "YRG--s4v5CHu",
        "outputId": "c387cf56-1874-444a-d761-30e5f7f69bc9"
      },
      "execution_count": 23,
      "outputs": [
        {
          "output_type": "stream",
          "name": "stdout",
          "text": [
            "[0.09090909 0.18181818 0.27272727 0.36363636 0.45454545 0.54545455\n",
            " 0.63636364 0.72727273 0.81818182 0.90909091]\n"
          ]
        }
      ]
    },
    {
      "cell_type": "markdown",
      "source": [
        "41. How to sum a small array faster than np.sum"
      ],
      "metadata": {
        "id": "4yN__0e-vdrr"
      }
    },
    {
      "cell_type": "code",
      "source": [
        "C = np.arange(10)\n",
        "print (C)\n",
        "np.add.reduce(C)"
      ],
      "metadata": {
        "colab": {
          "base_uri": "https://localhost:8080/"
        },
        "id": "wgnn6K9R5hzE",
        "outputId": "db30aaf4-25fa-4cb5-a64a-213cd6aff24e"
      },
      "execution_count": 25,
      "outputs": [
        {
          "output_type": "stream",
          "name": "stdout",
          "text": [
            "[0 1 2 3 4 5 6 7 8 9]\n"
          ]
        },
        {
          "output_type": "execute_result",
          "data": {
            "text/plain": [
              "45"
            ]
          },
          "metadata": {},
          "execution_count": 25
        }
      ]
    },
    {
      "cell_type": "markdown",
      "source": [
        "42. Consider two random array A and B, check if they are equal"
      ],
      "metadata": {
        "id": "G41fGGkJvdzU"
      }
    },
    {
      "cell_type": "code",
      "source": [
        "# Generating the first array 'arr1' with 8 random integers(0 or 1) using np.random.randint()\n",
        "arr1 = np.random.randint(0, 2, 8)\n",
        "print(\"First array:\")\n",
        "print(arr1)\n",
        "\n",
        "# Generating the second array 'arr2' with 8 random integers (0 or 1) using np.random.randint()\n",
        "arr2 = np.random.randint(0, 2, 8)\n",
        "print(\"Second array:\")\n",
        "print(arr2)\n",
        "\n",
        "# Checking if the two arrays 'arr1' and 'arr2' are equal using np.allclose()\n",
        "# This function returns True if the two arrays are element-wise equal within a tolerance\n",
        "array_equal = np.allclose(arr1, arr2)\n",
        "\n",
        "# Printing whether the two arrays are equal or not\n",
        "print(\"Test above two arrays are equal or not!\")\n",
        "print(array_equal)"
      ],
      "metadata": {
        "colab": {
          "base_uri": "https://localhost:8080/"
        },
        "id": "cqIyyCQg_O9e",
        "outputId": "49c1fe43-59d4-41b3-a261-63b60977343b"
      },
      "execution_count": 26,
      "outputs": [
        {
          "output_type": "stream",
          "name": "stdout",
          "text": [
            "First array:\n",
            "[1 1 1 1 1 0 0 1]\n",
            "Second array:\n",
            "[1 1 0 1 1 0 0 0]\n",
            "Test above two arrays are equal or not!\n",
            "False\n"
          ]
        }
      ]
    },
    {
      "cell_type": "markdown",
      "source": [
        "43. Make an array immutable (read-only)"
      ],
      "metadata": {
        "id": "bdYDCCIVvd7M"
      }
    },
    {
      "cell_type": "code",
      "source": [
        "Y = np.zeros(10)\n",
        "Y.flags.writeable = False\n",
        "Y[0] = 1"
      ],
      "metadata": {
        "colab": {
          "base_uri": "https://localhost:8080/",
          "height": 176
        },
        "id": "bNSqPE_XAVqY",
        "outputId": "d5c629c8-9fe1-4cfb-d32b-d9dbfdeca23c"
      },
      "execution_count": 27,
      "outputs": [
        {
          "output_type": "error",
          "ename": "ValueError",
          "evalue": "assignment destination is read-only",
          "traceback": [
            "\u001b[0;31m---------------------------------------------------------------------------\u001b[0m",
            "\u001b[0;31mValueError\u001b[0m                                Traceback (most recent call last)",
            "\u001b[0;32m<ipython-input-27-4a418bb94aa7>\u001b[0m in \u001b[0;36m<cell line: 3>\u001b[0;34m()\u001b[0m\n\u001b[1;32m      1\u001b[0m \u001b[0mY\u001b[0m \u001b[0;34m=\u001b[0m \u001b[0mnp\u001b[0m\u001b[0;34m.\u001b[0m\u001b[0mzeros\u001b[0m\u001b[0;34m(\u001b[0m\u001b[0;36m10\u001b[0m\u001b[0;34m)\u001b[0m\u001b[0;34m\u001b[0m\u001b[0;34m\u001b[0m\u001b[0m\n\u001b[1;32m      2\u001b[0m \u001b[0mY\u001b[0m\u001b[0;34m.\u001b[0m\u001b[0mflags\u001b[0m\u001b[0;34m.\u001b[0m\u001b[0mwriteable\u001b[0m \u001b[0;34m=\u001b[0m \u001b[0;32mFalse\u001b[0m\u001b[0;34m\u001b[0m\u001b[0;34m\u001b[0m\u001b[0m\n\u001b[0;32m----> 3\u001b[0;31m \u001b[0mY\u001b[0m\u001b[0;34m[\u001b[0m\u001b[0;36m0\u001b[0m\u001b[0;34m]\u001b[0m \u001b[0;34m=\u001b[0m \u001b[0;36m1\u001b[0m\u001b[0;34m\u001b[0m\u001b[0;34m\u001b[0m\u001b[0m\n\u001b[0m",
            "\u001b[0;31mValueError\u001b[0m: assignment destination is read-only"
          ]
        }
      ]
    },
    {
      "cell_type": "markdown",
      "source": [
        "44. Consider a random 10x2 matrix representing cartesian coordinates, convert them to polar coordinates"
      ],
      "metadata": {
        "id": "0c02gNyLveCc"
      }
    },
    {
      "cell_type": "markdown",
      "source": [],
      "metadata": {
        "id": "SiJzB5OiveKN"
      }
    },
    {
      "cell_type": "code",
      "source": [
        "arr1 = np.random.random(10)\n",
        "\n",
        "print(\"Original array:\")\n",
        "print(arr1)\n",
        "\n",
        "# Finding the index of the maximum value in the array using x.argmax()\n",
        "# Replacing the maximum value with 0 using the index obtained from x.argmax()\n",
        "arr1[arr1.argmax()] = 0\n",
        "\n",
        "# Displaying the modified array where the maximum value has been replaced by 0\n",
        "print(\"Maximum value replaced by 0:\")\n",
        "print(arr1)"
      ],
      "metadata": {
        "colab": {
          "base_uri": "https://localhost:8080/"
        },
        "id": "ELIF3bo4N7Z4",
        "outputId": "3cc1407e-cb3f-4b7a-e3c9-aa0c1c63e175"
      },
      "execution_count": 29,
      "outputs": [
        {
          "output_type": "stream",
          "name": "stdout",
          "text": [
            "Original array:\n",
            "[0.57502688 0.58720421 0.15174461 0.63285522 0.63059398 0.23158882\n",
            " 0.09734918 0.17707018 0.78742582 0.38570176]\n",
            "Maximum value replaced by 0:\n",
            "[0.57502688 0.58720421 0.15174461 0.63285522 0.63059398 0.23158882\n",
            " 0.09734918 0.17707018 0.         0.38570176]\n"
          ]
        }
      ]
    }
  ]
}