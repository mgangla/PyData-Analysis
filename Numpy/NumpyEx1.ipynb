{
  "nbformat": 4,
  "nbformat_minor": 0,
  "metadata": {
    "colab": {
      "provenance": [],
      "toc_visible": true
    },
    "kernelspec": {
      "name": "python3",
      "display_name": "Python 3"
    },
    "language_info": {
      "name": "python"
    }
  },
  "cells": [
    {
      "cell_type": "code",
      "execution_count": null,
      "metadata": {
        "id": "fumMd-wW32Ha"
      },
      "outputs": [],
      "source": []
    },
    {
      "cell_type": "markdown",
      "source": [
        "1. Import the numpy package under the name np"
      ],
      "metadata": {
        "id": "xZ3uH35035X-"
      }
    },
    {
      "cell_type": "code",
      "source": [
        "import numpy as np"
      ],
      "metadata": {
        "id": "VEX6Mc0U3_05"
      },
      "execution_count": 2,
      "outputs": []
    },
    {
      "cell_type": "markdown",
      "source": [
        "Print the numpy version and the configuration"
      ],
      "metadata": {
        "id": "Zj2Z-NMD4KsE"
      }
    },
    {
      "cell_type": "code",
      "source": [
        "print(np.__version__)\n"
      ],
      "metadata": {
        "colab": {
          "base_uri": "https://localhost:8080/"
        },
        "id": "KLpi0jLz4TBN",
        "outputId": "7924ff45-2b35-4d27-b1b1-4b7d4436ceb4"
      },
      "execution_count": 3,
      "outputs": [
        {
          "output_type": "stream",
          "name": "stdout",
          "text": [
            "1.25.2\n"
          ]
        }
      ]
    },
    {
      "cell_type": "markdown",
      "source": [
        "Create a null vector of size 10"
      ],
      "metadata": {
        "id": "H_sJYhfz4K4K"
      }
    },
    {
      "cell_type": "code",
      "source": [
        "null_vector = np.zeros(10)\n",
        "print(null_vector)"
      ],
      "metadata": {
        "colab": {
          "base_uri": "https://localhost:8080/"
        },
        "id": "oPYFvxjz485i",
        "outputId": "a7839781-0718-4568-be1d-6484c652a0a1"
      },
      "execution_count": 4,
      "outputs": [
        {
          "output_type": "stream",
          "name": "stdout",
          "text": [
            "[0. 0. 0. 0. 0. 0. 0. 0. 0. 0.]\n"
          ]
        }
      ]
    },
    {
      "cell_type": "markdown",
      "source": [
        "to get the size of any array"
      ],
      "metadata": {
        "id": "V1uNRYZG4LFs"
      }
    },
    {
      "cell_type": "code",
      "source": [
        "array_1=np.arange(0,20,4,dtype=int)\n",
        "#array size is\n",
        "array_1.size\n",
        "#array itemsize is\n",
        "array_1.itemsize\n",
        "memory_size = array_1.itemsize*array_1.size\n",
        "print(memory_size)\n"
      ],
      "metadata": {
        "colab": {
          "base_uri": "https://localhost:8080/"
        },
        "id": "KoNJ7Scn6YQy",
        "outputId": "9db76e8a-229c-443b-f6d9-7a5f100dad54"
      },
      "execution_count": 6,
      "outputs": [
        {
          "output_type": "stream",
          "name": "stdout",
          "text": [
            "40\n"
          ]
        }
      ]
    },
    {
      "cell_type": "markdown",
      "source": [
        "How to get the documentation of the numpy add function from the command line"
      ],
      "metadata": {
        "id": "zdq0-RNf4LQ-"
      }
    },
    {
      "cell_type": "code",
      "source": [
        "print(np.info(np. add))"
      ],
      "metadata": {
        "colab": {
          "base_uri": "https://localhost:8080/"
        },
        "id": "QtKAZu6r9B-h",
        "outputId": "ade0abdd-b12c-42e9-e25d-b45d661a4df2"
      },
      "execution_count": 7,
      "outputs": [
        {
          "output_type": "stream",
          "name": "stdout",
          "text": [
            "add(x1, x2, /, out=None, *, where=True, casting='same_kind', order='K', dtype=None, subok=True[, signature, extobj])\n",
            "\n",
            "Add arguments element-wise.\n",
            "\n",
            "Parameters\n",
            "----------\n",
            "x1, x2 : array_like\n",
            "    The arrays to be added.\n",
            "    If ``x1.shape != x2.shape``, they must be broadcastable to a common\n",
            "    shape (which becomes the shape of the output).\n",
            "out : ndarray, None, or tuple of ndarray and None, optional\n",
            "    A location into which the result is stored. If provided, it must have\n",
            "    a shape that the inputs broadcast to. If not provided or None,\n",
            "    a freshly-allocated array is returned. A tuple (possible only as a\n",
            "    keyword argument) must have length equal to the number of outputs.\n",
            "where : array_like, optional\n",
            "    This condition is broadcast over the input. At locations where the\n",
            "    condition is True, the `out` array will be set to the ufunc result.\n",
            "    Elsewhere, the `out` array will retain its original value.\n",
            "    Note that if an uninitialized `out` array is created via the default\n",
            "    ``out=None``, locations within it where the condition is False will\n",
            "    remain uninitialized.\n",
            "**kwargs\n",
            "    For other keyword-only arguments, see the\n",
            "    :ref:`ufunc docs <ufuncs.kwargs>`.\n",
            "\n",
            "Returns\n",
            "-------\n",
            "add : ndarray or scalar\n",
            "    The sum of `x1` and `x2`, element-wise.\n",
            "    This is a scalar if both `x1` and `x2` are scalars.\n",
            "\n",
            "Notes\n",
            "-----\n",
            "Equivalent to `x1` + `x2` in terms of array broadcasting.\n",
            "\n",
            "Examples\n",
            "--------\n",
            ">>> np.add(1.0, 4.0)\n",
            "5.0\n",
            ">>> x1 = np.arange(9.0).reshape((3, 3))\n",
            ">>> x2 = np.arange(3.0)\n",
            ">>> np.add(x1, x2)\n",
            "array([[  0.,   2.,   4.],\n",
            "       [  3.,   5.,   7.],\n",
            "       [  6.,   8.,  10.]])\n",
            "\n",
            "The ``+`` operator can be used as a shorthand for ``np.add`` on ndarrays.\n",
            "\n",
            ">>> x1 = np.arange(9.0).reshape((3, 3))\n",
            ">>> x2 = np.arange(3.0)\n",
            ">>> x1 + x2\n",
            "array([[ 0.,  2.,  4.],\n",
            "       [ 3.,  5.,  7.],\n",
            "       [ 6.,  8., 10.]])\n",
            "None\n"
          ]
        }
      ]
    },
    {
      "cell_type": "markdown",
      "source": [
        "Create a null vector of size 10 but the fifth value which is 1\n"
      ],
      "metadata": {
        "id": "Rrb-J8Zl4LZh"
      }
    },
    {
      "cell_type": "code",
      "source": [
        "# create null vector of size 10\n",
        "null_vector1 = np.zeros(10)\n",
        "\n",
        "# set the fifth value to 1\n",
        "null_vector1[4] = 1\n",
        "\n",
        "print(null_vector1)"
      ],
      "metadata": {
        "colab": {
          "base_uri": "https://localhost:8080/"
        },
        "id": "Xdym7b2n-ZOV",
        "outputId": "4cea8437-935b-4f87-dbe3-b00ccd871f75"
      },
      "execution_count": 8,
      "outputs": [
        {
          "output_type": "stream",
          "name": "stdout",
          "text": [
            "[0. 0. 0. 0. 1. 0. 0. 0. 0. 0.]\n"
          ]
        }
      ]
    },
    {
      "cell_type": "markdown",
      "source": [
        " Create a vector with values ranging from 10 to 49"
      ],
      "metadata": {
        "id": "BqerTO7R4Lhh"
      }
    },
    {
      "cell_type": "code",
      "source": [
        "X = np.arange(10,50)\n",
        "print (X)"
      ],
      "metadata": {
        "colab": {
          "base_uri": "https://localhost:8080/"
        },
        "id": "dZeXhVS7_jBd",
        "outputId": "9f54b336-2b44-4a98-b0d0-23bd0699a343"
      },
      "execution_count": 9,
      "outputs": [
        {
          "output_type": "stream",
          "name": "stdout",
          "text": [
            "[10 11 12 13 14 15 16 17 18 19 20 21 22 23 24 25 26 27 28 29 30 31 32 33\n",
            " 34 35 36 37 38 39 40 41 42 43 44 45 46 47 48 49]\n"
          ]
        }
      ]
    },
    {
      "cell_type": "markdown",
      "source": [
        " Reverse a vector (first element becomes last"
      ],
      "metadata": {
        "id": "rJb24J7c_1Nu"
      }
    },
    {
      "cell_type": "code",
      "source": [
        "Y = np.arange(10,20)\n",
        "Y = Y[::-1]\n",
        "print (Y)"
      ],
      "metadata": {
        "colab": {
          "base_uri": "https://localhost:8080/"
        },
        "id": "PEPdXSelAAYm",
        "outputId": "44e8fd9e-95bf-43d1-eaa7-37b28d8ff4bc"
      },
      "execution_count": 10,
      "outputs": [
        {
          "output_type": "stream",
          "name": "stdout",
          "text": [
            "[19 18 17 16 15 14 13 12 11 10]\n"
          ]
        }
      ]
    },
    {
      "cell_type": "markdown",
      "source": [
        " Create a 3x3 matrix with values ranging from 0 to 8"
      ],
      "metadata": {
        "id": "N5QEn_P6_1SH"
      }
    },
    {
      "cell_type": "code",
      "source": [
        "Nine = np.arange(9).reshape(3,3)\n",
        "print (Nine)"
      ],
      "metadata": {
        "colab": {
          "base_uri": "https://localhost:8080/"
        },
        "id": "K4_dRUZmAhFR",
        "outputId": "cc266bcd-f670-451c-cbc0-9e9d9cf07b92"
      },
      "execution_count": 11,
      "outputs": [
        {
          "output_type": "stream",
          "name": "stdout",
          "text": [
            "[[0 1 2]\n",
            " [3 4 5]\n",
            " [6 7 8]]\n"
          ]
        }
      ]
    },
    {
      "cell_type": "markdown",
      "source": [
        " Find indices of non-zero elements from [1,2,0,0,4,0]"
      ],
      "metadata": {
        "id": "Hzm4rQ7G_1bF"
      }
    },
    {
      "cell_type": "code",
      "source": [
        "not_zero = np.nonzero([1,2,0,0,4,0])\n",
        "print(not_zero)"
      ],
      "metadata": {
        "colab": {
          "base_uri": "https://localhost:8080/"
        },
        "id": "SErSuV0QA_Xc",
        "outputId": "c512de39-9c0f-4de0-eb16-a885bf70f2bf"
      },
      "execution_count": 12,
      "outputs": [
        {
          "output_type": "stream",
          "name": "stdout",
          "text": [
            "(array([0, 1, 4]),)\n"
          ]
        }
      ]
    },
    {
      "cell_type": "markdown",
      "source": [
        "Create a 3x3 identity matrix"
      ],
      "metadata": {
        "id": "1R1rEv9c_1fW"
      }
    },
    {
      "cell_type": "code",
      "source": [
        "#all ones in the diagonal\n",
        "Identity_mat= np.eye(3)\n",
        "print (Identity_mat)"
      ],
      "metadata": {
        "colab": {
          "base_uri": "https://localhost:8080/"
        },
        "id": "OWG22uMyB5EO",
        "outputId": "756ee031-6647-427d-f239-1aba16f39983"
      },
      "execution_count": 13,
      "outputs": [
        {
          "output_type": "stream",
          "name": "stdout",
          "text": [
            "[[1. 0. 0.]\n",
            " [0. 1. 0.]\n",
            " [0. 0. 1.]]\n"
          ]
        }
      ]
    },
    {
      "cell_type": "markdown",
      "source": [
        "Create a 3x3x3 array with random values"
      ],
      "metadata": {
        "id": "blpkO6sM_1kW"
      }
    },
    {
      "cell_type": "code",
      "source": [
        "#make use of random\n",
        "import random\n",
        "Ra = np.random.uniform((3,3,3))\n",
        "print (Ra)"
      ],
      "metadata": {
        "colab": {
          "base_uri": "https://localhost:8080/"
        },
        "id": "eOgVyBMzCVUh",
        "outputId": "f361fc71-4c75-4d23-adc7-109215acc9fc"
      },
      "execution_count": 20,
      "outputs": [
        {
          "output_type": "stream",
          "name": "stdout",
          "text": [
            "[2.68285214 1.65182256 1.22105047]\n"
          ]
        }
      ]
    },
    {
      "cell_type": "markdown",
      "source": [
        "Create a 10x10 array with random values and find the minimum and maximum values"
      ],
      "metadata": {
        "id": "324W1ioG_1tK"
      }
    },
    {
      "cell_type": "code",
      "source": [
        "T = np.random.random((10,10))\n",
        "print(T)\n",
        "Tmin, Tmax = T.min(), T.max()\n",
        "print(f\"the max & Min Values', {Tmin},{Tmax}\")"
      ],
      "metadata": {
        "colab": {
          "base_uri": "https://localhost:8080/"
        },
        "id": "r3gZEIXKDvuw",
        "outputId": "2a68e7aa-fb82-4b61-e050-7920785aaa97"
      },
      "execution_count": 26,
      "outputs": [
        {
          "output_type": "stream",
          "name": "stdout",
          "text": [
            "[[0.98117031 0.54275912 0.53811341 0.9683692  0.03883939 0.82187743\n",
            "  0.52644209 0.74035006 0.72062573 0.64473146]\n",
            " [0.85555877 0.82834203 0.26877225 0.59571882 0.29585323 0.2453557\n",
            "  0.09906406 0.24101645 0.70227473 0.48076583]\n",
            " [0.20478492 0.36101667 0.99967563 0.90738285 0.99021975 0.71945929\n",
            "  0.77254831 0.01365829 0.92141094 0.49798995]\n",
            " [0.63705709 0.83181177 0.56322863 0.21844875 0.42415847 0.76689297\n",
            "  0.29577634 0.59243191 0.35389005 0.33969491]\n",
            " [0.20973435 0.84153109 0.27874529 0.64252919 0.01674677 0.34144918\n",
            "  0.21820572 0.87136131 0.42185696 0.10711217]\n",
            " [0.92532971 0.11201796 0.07826901 0.10307735 0.4897358  0.02076531\n",
            "  0.14490289 0.7325811  0.53440645 0.57909443]\n",
            " [0.2843758  0.46007255 0.33415139 0.82656056 0.82609072 0.08635322\n",
            "  0.81501005 0.62973933 0.21582136 0.28533976]\n",
            " [0.88321139 0.92197218 0.31658507 0.37263066 0.57670644 0.11932239\n",
            "  0.04217186 0.00700979 0.48591565 0.20868248]\n",
            " [0.0231797  0.62644973 0.91067777 0.08672563 0.7596095  0.27087473\n",
            "  0.59053151 0.4344291  0.85093692 0.85943357]\n",
            " [0.07070019 0.21984735 0.51596227 0.46851666 0.04242306 0.38317912\n",
            "  0.5010971  0.6114688  0.76533555 0.13593854]]\n",
            "the max & Min Values', 0.007009791315364833,0.9996756330971457\n"
          ]
        }
      ]
    },
    {
      "cell_type": "markdown",
      "source": [
        "Create a random vector of size 30 and find the mean value"
      ],
      "metadata": {
        "id": "v63tYY9U_1y3"
      }
    },
    {
      "cell_type": "code",
      "source": [
        "Thatee = np.random.random(30)\n",
        "print(f\"the vector has:{Thatee}\")\n",
        "mean_Thatee = Thatee.mean()\n",
        "print (f\"the mean is : {mean_Thatee} \")"
      ],
      "metadata": {
        "colab": {
          "base_uri": "https://localhost:8080/"
        },
        "id": "_T7RoYDWHXoq",
        "outputId": "c89b67fd-2e69-4449-dcd2-5847a2de3d12"
      },
      "execution_count": 34,
      "outputs": [
        {
          "output_type": "stream",
          "name": "stdout",
          "text": [
            "the vector has:[0.09987687 0.27646354 0.29658579 0.54030585 0.2660563  0.66208836\n",
            " 0.28344209 0.12525948 0.30764767 0.34298567 0.99514151 0.8107484\n",
            " 0.42176681 0.40766459 0.42957006 0.42636718 0.54103627 0.47092959\n",
            " 0.68694435 0.95470972 0.93671605 0.16719371 0.45542945 0.977965\n",
            " 0.49791494 0.02528541 0.44907226 0.1826738  0.71538822 0.95465521]\n",
            "the mean is : 0.49026280450395116 \n"
          ]
        }
      ]
    },
    {
      "cell_type": "markdown",
      "source": [
        "Create a 2d array with 1 on the border and 0 inside"
      ],
      "metadata": {
        "id": "PeNWhxQ2_13U"
      }
    },
    {
      "cell_type": "code",
      "source": [
        "arr = np.ones((5,5))\n",
        "print(arr)\n",
        "\n",
        "# modify it\n",
        "#This indexing operation sets the value of the inner elements of the array to zero by slicing the rows and columns\n",
        "#from index 1 to the second last index (i.e., excluding the first and last rows and columns).\n",
        "# The assignment operation (= 0) sets the selected elements to zero.\n",
        "arr[1:-1,1:-1]=0\n",
        "\n",
        "print(arr)\n",
        "\n"
      ],
      "metadata": {
        "colab": {
          "base_uri": "https://localhost:8080/"
        },
        "id": "Q0T7rLzOKDtA",
        "outputId": "2431b2da-6e5a-4d54-fb4a-e91c409e8328"
      },
      "execution_count": 37,
      "outputs": [
        {
          "output_type": "stream",
          "name": "stdout",
          "text": [
            "[[1. 1. 1. 1. 1.]\n",
            " [1. 1. 1. 1. 1.]\n",
            " [1. 1. 1. 1. 1.]\n",
            " [1. 1. 1. 1. 1.]\n",
            " [1. 1. 1. 1. 1.]]\n",
            "[[1. 1. 1. 1. 1.]\n",
            " [1. 0. 0. 0. 1.]\n",
            " [1. 0. 0. 0. 1.]\n",
            " [1. 0. 0. 0. 1.]\n",
            " [1. 1. 1. 1. 1.]]\n"
          ]
        }
      ]
    }
  ]
}