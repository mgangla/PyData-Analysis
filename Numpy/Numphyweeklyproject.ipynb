{
  "nbformat": 4,
  "nbformat_minor": 0,
  "metadata": {
    "colab": {
      "provenance": []
    },
    "kernelspec": {
      "name": "python3",
      "display_name": "Python 3"
    },
    "language_info": {
      "name": "python"
    }
  },
  "cells": [
    {
      "cell_type": "code",
      "execution_count": null,
      "metadata": {
        "id": "TyFqdIJAf0w3"
      },
      "outputs": [],
      "source": []
    },
    {
      "cell_type": "markdown",
      "source": [],
      "metadata": {
        "id": "zaZfzmCH4Bf6"
      }
    },
    {
      "cell_type": "markdown",
      "source": [
        " Find the nearest value from a given value in an array"
      ],
      "metadata": {
        "id": "7yJqkmPhf_2r"
      }
    },
    {
      "cell_type": "code",
      "source": [
        "import numpy as np\n",
        "\n",
        "arr = np.array([12, 40, 65, 78, 10, 99, 30])\n",
        "print(\"Array is : \", arr)\n",
        "\n",
        "# element to which nearest value is to be found\n",
        "x = 75\n",
        "print(\"Value to which nearest element is to be found: \", x)\n",
        "\n",
        "# calculate the difference array\n",
        "difference_array = np.absolute(arr-x)\n",
        "\n",
        "# find the index of minimum element from the array\n",
        "index = difference_array.argmin()\n",
        "print(\"Nearest element to the given values is : \", arr[index])\n",
        "print(\"Index of nearest value is : \", index)"
      ],
      "metadata": {
        "colab": {
          "base_uri": "https://localhost:8080/"
        },
        "id": "1dc4D50pgMs9",
        "outputId": "fd94f3eb-3377-4a0e-e2e8-daab640c43f3"
      },
      "execution_count": null,
      "outputs": [
        {
          "output_type": "stream",
          "name": "stdout",
          "text": [
            "Array is :  [12 40 65 78 10 99 30]\n",
            "Value to which nearest element is to be found:  75\n",
            "Nearest element to the given values is :  78\n",
            "Index of nearest value is :  3\n"
          ]
        }
      ]
    },
    {
      "cell_type": "markdown",
      "source": [
        "Considering two arrays with shape (1,3) and (3,1), how to compute their sum using an iterator"
      ],
      "metadata": {
        "id": "wa2tyhR7f_6J"
      }
    },
    {
      "cell_type": "code",
      "source": [
        "A = np.arange(3).reshape(3,1)\n",
        "print(A)\n",
        "B = np.arange(3).reshape(1,3)\n",
        "print(B)\n",
        "it = np.nditer([A,B,None])\n",
        "for x,y,z in it: z[...] = x + y\n",
        "print(\"the result is\")\n",
        "print(it.operands[2])"
      ],
      "metadata": {
        "colab": {
          "base_uri": "https://localhost:8080/"
        },
        "id": "6I4erTbpkbmh",
        "outputId": "3f08e5af-a2e6-4640-eb10-ecc8cfeb8f6e"
      },
      "execution_count": null,
      "outputs": [
        {
          "output_type": "stream",
          "name": "stdout",
          "text": [
            "[[0]\n",
            " [1]\n",
            " [2]]\n",
            "[[0 1 2]]\n",
            "the result is\n",
            "[[0 1 2]\n",
            " [1 2 3]\n",
            " [2 3 4]]\n"
          ]
        }
      ]
    },
    {
      "cell_type": "markdown",
      "source": [
        "Create an array class that has a name attribute (★★☆)"
      ],
      "metadata": {
        "id": "_1PENLiqgACi"
      }
    },
    {
      "cell_type": "code",
      "source": [
        "class NameArr(np.ndarray):\n",
        "    def __new__(cls, array, name=\"no name\"):\n",
        "        obj = np.asarray(array).view(cls)\n",
        "        obj.name = name\n",
        "        return obj\n",
        "    def __array_finalize__(self, obj):\n",
        "        if obj is None: return\n",
        "        self.info = getattr(obj, 'name', \"no name\")\n",
        "\n",
        "Z = NameArr(np.arange(10), \"range_10\")\n",
        "print (Z.name)"
      ],
      "metadata": {
        "colab": {
          "base_uri": "https://localhost:8080/"
        },
        "id": "sOJsPCnKlRd0",
        "outputId": "ff8b4a4d-3b0b-4df2-9a5b-dc26cc53bb9d"
      },
      "execution_count": null,
      "outputs": [
        {
          "output_type": "stream",
          "name": "stdout",
          "text": [
            "range_10\n"
          ]
        }
      ]
    },
    {
      "cell_type": "markdown",
      "source": [
        "64. Consider a given vector, how to add 1 to each element indexed by a second vector (be careful with repeated indices)? (★★★)"
      ],
      "metadata": {
        "id": "AfyVCj_ngAGw"
      }
    },
    {
      "cell_type": "code",
      "source": [
        "Z = np.ones(10)\n",
        "I = np.random.randint(0,len(Z),20)\n",
        "Z += np.bincount(I, minlength=len(Z))\n",
        "print(Z)"
      ],
      "metadata": {
        "id": "-AqjMUBZmSY9"
      },
      "execution_count": null,
      "outputs": []
    },
    {
      "cell_type": "markdown",
      "source": [
        "65. How to accumulate elements of a vector (X) to an array (F) based on an index list (I)"
      ],
      "metadata": {
        "id": "zFt3bcK4plUQ"
      }
    },
    {
      "cell_type": "code",
      "source": [
        "X = [1,2,3,4,5,6]\n",
        "I = [1,3,9,3,4,1]\n",
        "F = np.bincount(I,X)\n",
        "print(F)"
      ],
      "metadata": {
        "colab": {
          "base_uri": "https://localhost:8080/"
        },
        "id": "6eCVBBpXpnIp",
        "outputId": "189ee3e8-53ec-4b43-868b-9053a9d6b09d"
      },
      "execution_count": null,
      "outputs": [
        {
          "output_type": "stream",
          "name": "stdout",
          "text": [
            "[0. 7. 0. 6. 5. 0. 0. 0. 0. 3.]\n"
          ]
        }
      ]
    },
    {
      "cell_type": "markdown",
      "source": [
        "66. Considering a (w,h,3) image of (dtype=ubyte), compute the number of unique colors"
      ],
      "metadata": {
        "id": "BKtlCegngAKw"
      }
    },
    {
      "cell_type": "code",
      "source": [
        "w,h = 16,16\n",
        "I = np.random.randint(0,2,(h,w,3)).astype(np.ubyte)\n",
        "F = I[...,0]*256*256 + I[...,1]*256 +I[...,2]\n",
        "n = len(np.unique(F))\n",
        "print(np.unique(I))"
      ],
      "metadata": {
        "colab": {
          "base_uri": "https://localhost:8080/"
        },
        "id": "DnCHRmLep8iU",
        "outputId": "d60a194b-bc24-44ff-d8be-feaaa24ef52d"
      },
      "execution_count": null,
      "outputs": [
        {
          "output_type": "stream",
          "name": "stdout",
          "text": [
            "[0 1]\n"
          ]
        }
      ]
    },
    {
      "cell_type": "markdown",
      "source": [
        "67. Considering a four dimensions array, how to get sum over the last two axis at once? (★★★)\n"
      ],
      "metadata": {
        "id": "ZHStRCVIqQ-n"
      }
    },
    {
      "cell_type": "code",
      "source": [
        "A = np.random.randint(0,10,(3,4,3,4))\n",
        "print(A)\n",
        "# solution by flattening the last two dimensions into one\n",
        "# (useful for functions that don't accept tuples for axis argument)\n",
        "sum = A.reshape(A.shape[:-2] + (-1,)).sum(axis=-1)\n",
        "print(\"sum is\")\n",
        "print(sum)"
      ],
      "metadata": {
        "colab": {
          "base_uri": "https://localhost:8080/"
        },
        "id": "AabLCIogqWQp",
        "outputId": "5fe428aa-0120-4e31-b024-4b4b1bd79d79"
      },
      "execution_count": null,
      "outputs": [
        {
          "output_type": "stream",
          "name": "stdout",
          "text": [
            "[[[[2 0 2 6]\n",
            "   [9 4 6 1]\n",
            "   [6 2 7 6]]\n",
            "\n",
            "  [[6 7 3 4]\n",
            "   [2 4 1 8]\n",
            "   [2 9 4 8]]\n",
            "\n",
            "  [[7 2 8 5]\n",
            "   [4 0 0 9]\n",
            "   [8 5 0 5]]\n",
            "\n",
            "  [[9 5 2 7]\n",
            "   [7 4 3 1]\n",
            "   [4 6 1 1]]]\n",
            "\n",
            "\n",
            " [[[2 9 7 1]\n",
            "   [7 4 9 7]\n",
            "   [7 6 9 1]]\n",
            "\n",
            "  [[0 0 9 0]\n",
            "   [4 5 5 9]\n",
            "   [7 7 2 7]]\n",
            "\n",
            "  [[0 6 2 2]\n",
            "   [1 4 0 8]\n",
            "   [5 2 2 9]]\n",
            "\n",
            "  [[1 6 8 9]\n",
            "   [7 5 2 3]\n",
            "   [1 8 6 9]]]\n",
            "\n",
            "\n",
            " [[[4 2 4 7]\n",
            "   [7 5 4 6]\n",
            "   [7 9 0 2]]\n",
            "\n",
            "  [[8 0 0 5]\n",
            "   [1 6 6 3]\n",
            "   [5 4 9 5]]\n",
            "\n",
            "  [[6 5 9 1]\n",
            "   [2 5 8 8]\n",
            "   [0 6 2 4]]\n",
            "\n",
            "  [[6 2 9 7]\n",
            "   [2 0 8 8]\n",
            "   [2 0 6 8]]]]\n",
            "sum is\n",
            "[[51 58 53 50]\n",
            " [69 55 41 65]\n",
            " [57 52 56 58]]\n"
          ]
        }
      ]
    },
    {
      "cell_type": "markdown",
      "source": [
        "68. Considering a one-dimensional vector D, how to compute means of subsets of D using a vector S of same size describing subset indices? (★★★)"
      ],
      "metadata": {
        "id": "wodlLQrDgAOk"
      }
    },
    {
      "cell_type": "code",
      "source": [
        "D = np.random.uniform(0,1,100)\n",
        "print(D)\n",
        "S = np.random.randint(0,10,100)\n",
        "print(S)\n",
        "D_sums = np.bincount(S, weights=D)\n",
        "D_counts = np.bincount(S)\n",
        "D_means = D_sums / D_counts\n",
        "print(\"mean of subset\")\n",
        "print(D_means)"
      ],
      "metadata": {
        "colab": {
          "base_uri": "https://localhost:8080/"
        },
        "id": "J63O7XCUrpT1",
        "outputId": "bd2d6517-b066-4046-8940-a585ddd2080a"
      },
      "execution_count": null,
      "outputs": [
        {
          "output_type": "stream",
          "name": "stdout",
          "text": [
            "[0.91148625 0.91225353 0.2619775  0.034428   0.76960565 0.41950761\n",
            " 0.46257171 0.57706663 0.31487281 0.68664297 0.59102933 0.00369874\n",
            " 0.98238405 0.32962227 0.81816849 0.69022418 0.94240152 0.00477614\n",
            " 0.7563486  0.82298223 0.82599981 0.77072275 0.50200333 0.09320619\n",
            " 0.66291409 0.40809659 0.26461717 0.40760729 0.99012991 0.2121652\n",
            " 0.94201236 0.76032633 0.8274371  0.9768367  0.75128276 0.19931598\n",
            " 0.42253725 0.74906587 0.05540963 0.98300676 0.25239841 0.51481938\n",
            " 0.06963602 0.6747029  0.12505207 0.12723135 0.74354277 0.3046164\n",
            " 0.41169573 0.65897164 0.40747594 0.02613282 0.56210493 0.21106558\n",
            " 0.6571885  0.71340179 0.16415413 0.48803474 0.80009753 0.54164254\n",
            " 0.23647723 0.34296034 0.12589633 0.49350202 0.1871564  0.66931632\n",
            " 0.68341628 0.48336007 0.41600042 0.43251095 0.73897551 0.4959416\n",
            " 0.79119095 0.89000928 0.8373891  0.34651384 0.48403365 0.29544882\n",
            " 0.14284562 0.46819819 0.7347906  0.02982607 0.82351261 0.79033881\n",
            " 0.88772316 0.6818001  0.19082563 0.55095946 0.27178013 0.10694878\n",
            " 0.1411772  0.46151016 0.58994    0.84772014 0.50955688 0.93281069\n",
            " 0.24844632 0.03839252 0.63073069 0.64594072]\n",
            "[7 1 3 4 0 0 3 5 1 9 6 8 6 9 8 9 0 6 8 2 6 9 9 4 2 0 7 6 5 6 6 5 3 5 9 8 8\n",
            " 8 8 3 0 2 0 1 2 8 6 2 6 7 3 4 2 2 3 9 3 7 3 2 5 8 4 5 9 1 4 6 6 9 1 3 5 0\n",
            " 9 3 6 3 7 0 1 8 7 1 7 8 0 0 7 4 3 6 0 6 7 9 0 0 5 7]\n",
            "mean of subset\n",
            "[0.44910902 0.69075007 0.46814965 0.48691589 0.17833807 0.68203256\n",
            " 0.55813122 0.56044689 0.3805784  0.62125156]\n"
          ]
        }
      ]
    },
    {
      "cell_type": "markdown",
      "source": [
        "69. How to get the diagonal of a dot product?"
      ],
      "metadata": {
        "id": "903DVCU2gASV"
      }
    },
    {
      "cell_type": "code",
      "source": [
        "A = np.random.uniform(0,1,(5,5))\n",
        "print(\"array 1\")\n",
        "print(A)\n",
        "B = np.random.uniform(0,1,(5,5))\n",
        "print(\"array 2\")\n",
        "print(B)\n",
        "np.einsum(\"ij,ji->i\", A, B)\n",
        "\n"
      ],
      "metadata": {
        "colab": {
          "base_uri": "https://localhost:8080/"
        },
        "id": "mNQJebCpsoYh",
        "outputId": "92671176-1b20-4c51-93d6-15a646bf6405"
      },
      "execution_count": null,
      "outputs": [
        {
          "output_type": "stream",
          "name": "stdout",
          "text": [
            "array 1\n",
            "[[0.38506162 0.67899983 0.81487672 0.81770966 0.4845753 ]\n",
            " [0.67218195 0.2436223  0.48668155 0.64355605 0.90481915]\n",
            " [0.08289138 0.91418483 0.88484727 0.439366   0.56414411]\n",
            " [0.95126893 0.03980012 0.40456662 0.81549007 0.12981451]\n",
            " [0.6077839  0.12762575 0.76653417 0.79321306 0.19174725]]\n",
            "array 2\n",
            "[[0.60220288 0.33497828 0.35917093 0.19938912 0.92847809]\n",
            " [0.67227645 0.85996379 0.76997667 0.1610971  0.67948651]\n",
            " [0.08092809 0.38650297 0.2020044  0.54713161 0.45672724]\n",
            " [0.51066177 0.49055593 0.94704482 0.99502432 0.52307161]\n",
            " [0.37766194 0.76795222 0.25818096 0.67483618 0.78837941]]\n"
          ]
        },
        {
          "output_type": "execute_result",
          "data": {
            "text/plain": [
              "array([1.35488594, 1.63333469, 1.47416677, 1.31647153, 1.56720787])"
            ]
          },
          "metadata": {},
          "execution_count": 19
        }
      ]
    },
    {
      "cell_type": "markdown",
      "source": [
        "70. Consider the vector [1, 2, 3, 4, 5], how to build a new vector with 3 consecutive zeros interleaved between each value? (★★★)"
      ],
      "metadata": {
        "id": "kF0OZPDkgAW3"
      }
    },
    {
      "cell_type": "code",
      "source": [
        "Z = np.array([1,2,3,4,5])\n",
        "nz = 3\n",
        "Z0 = np.zeros(len(Z) + (len(Z)-1)*(nz))\n",
        "Z0[::nz+1] = Z\n",
        "print(Z0)"
      ],
      "metadata": {
        "colab": {
          "base_uri": "https://localhost:8080/"
        },
        "id": "ckrL_zN7zD8Z",
        "outputId": "0fb30cd5-2971-4ba3-b98b-76b6254ad66b"
      },
      "execution_count": null,
      "outputs": [
        {
          "output_type": "stream",
          "name": "stdout",
          "text": [
            "[1. 0. 0. 0. 2. 0. 0. 0. 3. 0. 0. 0. 4. 0. 0. 0. 5.]\n"
          ]
        }
      ]
    },
    {
      "cell_type": "markdown",
      "source": [
        "71. Consider an array of dimension (5,5,3), how to mulitply it by an array with dimensions (5,5)?"
      ],
      "metadata": {
        "id": "0JLS6kY2gAkO"
      }
    },
    {
      "cell_type": "code",
      "source": [
        "A = np.ones((5,5,3))\n",
        "B = 2*np.ones((5,5))\n",
        "print(A * B[:,:,None])"
      ],
      "metadata": {
        "colab": {
          "base_uri": "https://localhost:8080/"
        },
        "id": "557cAYUX0ADY",
        "outputId": "40a71a18-9973-42ef-8819-d6a9260fa253"
      },
      "execution_count": null,
      "outputs": [
        {
          "output_type": "stream",
          "name": "stdout",
          "text": [
            "[[[2. 2. 2.]\n",
            "  [2. 2. 2.]\n",
            "  [2. 2. 2.]\n",
            "  [2. 2. 2.]\n",
            "  [2. 2. 2.]]\n",
            "\n",
            " [[2. 2. 2.]\n",
            "  [2. 2. 2.]\n",
            "  [2. 2. 2.]\n",
            "  [2. 2. 2.]\n",
            "  [2. 2. 2.]]\n",
            "\n",
            " [[2. 2. 2.]\n",
            "  [2. 2. 2.]\n",
            "  [2. 2. 2.]\n",
            "  [2. 2. 2.]\n",
            "  [2. 2. 2.]]\n",
            "\n",
            " [[2. 2. 2.]\n",
            "  [2. 2. 2.]\n",
            "  [2. 2. 2.]\n",
            "  [2. 2. 2.]\n",
            "  [2. 2. 2.]]\n",
            "\n",
            " [[2. 2. 2.]\n",
            "  [2. 2. 2.]\n",
            "  [2. 2. 2.]\n",
            "  [2. 2. 2.]\n",
            "  [2. 2. 2.]]]\n"
          ]
        }
      ]
    },
    {
      "cell_type": "markdown",
      "source": [
        "72. How to swap two rows of an array?"
      ],
      "metadata": {
        "id": "anrJr6fdgA8e"
      }
    },
    {
      "cell_type": "code",
      "source": [
        "# Creating a NumPy array\n",
        "num_arr = np.array([[1,3,1], [3,1,3], [2,9,2], [9,2,9]])\n",
        "print(\"Original array:\")\n",
        "print(num_arr)\n",
        "\n",
        "# Using np.roll() method for swapping array along row\n",
        "num_arr = np.roll(num_arr,2,axis=0)\n",
        "\n",
        "print(\"\\nArray after swapping the rows:\")\n",
        "print(num_arr)"
      ],
      "metadata": {
        "colab": {
          "base_uri": "https://localhost:8080/"
        },
        "id": "TFGGASU01ffS",
        "outputId": "d11a02e4-6463-417c-f110-9043f97bbff9"
      },
      "execution_count": null,
      "outputs": [
        {
          "output_type": "stream",
          "name": "stdout",
          "text": [
            "Original array:\n",
            "[[1 3 1]\n",
            " [3 1 3]\n",
            " [2 9 2]\n",
            " [9 2 9]]\n",
            "\n",
            "Array after swapping the rows:\n",
            "[[2 9 2]\n",
            " [9 2 9]\n",
            " [1 3 1]\n",
            " [3 1 3]]\n"
          ]
        }
      ]
    },
    {
      "cell_type": "markdown",
      "source": [
        "73. Consider a set of 10 triplets describing 10 triangles (with shared vertices), find the set of unique line segments composing all the triangles (★★★)"
      ],
      "metadata": {
        "id": "uiU0TlOAgBMr"
      }
    },
    {
      "cell_type": "code",
      "source": [
        "faces = np.random.randint(0,100,(10,3))\n",
        "F = np.roll(faces.repeat(2,axis=1),-1,axis=1)\n",
        "F = F.reshape(len(F)*3,2)\n",
        "F = np.sort(F,axis=1)\n",
        "G = F.view( dtype=[('p0',F.dtype),('p1',F.dtype)] )\n",
        "G = np.unique(G)\n",
        "print(G)"
      ],
      "metadata": {
        "colab": {
          "base_uri": "https://localhost:8080/"
        },
        "id": "ulUffPgw_3C6",
        "outputId": "f2d88fc7-1a74-4b93-9c3e-37de22a83720"
      },
      "execution_count": null,
      "outputs": [
        {
          "output_type": "stream",
          "name": "stdout",
          "text": [
            "[( 2, 19) ( 2, 59) ( 4, 14) ( 4, 22) ( 5, 28) ( 5, 76) (11, 11) (11, 31)\n",
            " (13, 56) (13, 79) (14, 22) (14, 24) (14, 64) (19, 59) (24, 64) (25, 46)\n",
            " (25, 49) (28, 76) (32, 48) (32, 90) (46, 49) (48, 90) (51, 84) (51, 90)\n",
            " (54, 90) (54, 92) (56, 79) (84, 90) (90, 92)]\n"
          ]
        }
      ]
    },
    {
      "cell_type": "markdown",
      "source": [
        "74. Given a sorted array C that corresponds to a bincount, how to produce an array A such that np.bincount(A) == C? (★★★)"
      ],
      "metadata": {
        "id": "OEfuzV-1gBQr"
      }
    },
    {
      "cell_type": "code",
      "source": [
        "C = np.bincount([1,1,2,3,4,4,6])\n",
        "A = np.repeat(np.arange(len(C)), C)\n",
        "print(A)"
      ],
      "metadata": {
        "colab": {
          "base_uri": "https://localhost:8080/"
        },
        "id": "87E_-1AtAF3Z",
        "outputId": "a378f12b-e413-4466-e067-85f723b57aea"
      },
      "execution_count": null,
      "outputs": [
        {
          "output_type": "stream",
          "name": "stdout",
          "text": [
            "[1 1 2 3 4 4 6]\n"
          ]
        }
      ]
    },
    {
      "cell_type": "markdown",
      "source": [
        "75. How to compute averages using a sliding window over an array?"
      ],
      "metadata": {
        "id": "sIuO47KagBVo"
      }
    },
    {
      "cell_type": "code",
      "source": [
        "def moving_avrg(a, n=3) :\n",
        "    ret = np.cumsum(a, dtype=float)\n",
        "    ret[n:] = ret[n:] - ret[:-n]\n",
        "    return ret[n - 1:] / n\n",
        "M = np.arange(20)\n",
        "print(M)\n",
        "print(\"moving average computation\")\n",
        "print(moving_avrg(M, n=3))"
      ],
      "metadata": {
        "colab": {
          "base_uri": "https://localhost:8080/"
        },
        "id": "0D2rMEbMAoR-",
        "outputId": "4e8fe0ef-1bea-4985-85e9-8f94117d9492"
      },
      "execution_count": null,
      "outputs": [
        {
          "output_type": "stream",
          "name": "stdout",
          "text": [
            "[ 0  1  2  3  4  5  6  7  8  9 10 11 12 13 14 15 16 17 18 19]\n",
            "moving average computation\n",
            "[ 1.  2.  3.  4.  5.  6.  7.  8.  9. 10. 11. 12. 13. 14. 15. 16. 17. 18.]\n"
          ]
        }
      ]
    },
    {
      "cell_type": "code",
      "source": [],
      "metadata": {
        "id": "6CGFBkcSCE49"
      },
      "execution_count": null,
      "outputs": []
    },
    {
      "cell_type": "markdown",
      "source": [
        "\n",
        "76. Consider a one-dimensional array Z, build a two-dimensional array whose first row is (Z[0],Z[1],Z[2]) and each subsequent row is shifted by 1 (last row should be (Z[-3],Z[-2],Z[-1]) (★★★)"
      ],
      "metadata": {
        "id": "Xdn8_5ecCF9m"
      }
    },
    {
      "cell_type": "code",
      "source": [
        "from numpy.lib import stride_tricks\n",
        "def rolling(a, window):\n",
        "    shape = (a.size - window + 1, window)\n",
        "    strides = (a.itemsize, a.itemsize)\n",
        "    return stride_tricks.as_strided(a, shape=shape, strides=strides)\n",
        "Z = rolling(np.arange(10), 3)\n",
        "print(Z)"
      ],
      "metadata": {
        "colab": {
          "base_uri": "https://localhost:8080/"
        },
        "id": "TqGHTQo7Dex7",
        "outputId": "5afa3883-68ea-404a-c255-79a8b5ed96cd"
      },
      "execution_count": null,
      "outputs": [
        {
          "output_type": "stream",
          "name": "stdout",
          "text": [
            "[[0 1 2]\n",
            " [1 2 3]\n",
            " [2 3 4]\n",
            " [3 4 5]\n",
            " [4 5 6]\n",
            " [5 6 7]\n",
            " [6 7 8]\n",
            " [7 8 9]]\n"
          ]
        }
      ]
    },
    {
      "cell_type": "markdown",
      "source": [
        "77. How to negate a boolean, or to change the sign of a float inplace? (★★★)\n"
      ],
      "metadata": {
        "id": "vlAPsNF2E8BZ"
      }
    },
    {
      "cell_type": "code",
      "source": [
        "Z = np.random.randint(0,2,100)\n",
        "np.logical_not(Z, out=Z)\n",
        "\n",
        "Z = np.random.uniform(-1.0,1.0,100)\n",
        "np.negative(Z, out=Z)"
      ],
      "metadata": {
        "colab": {
          "base_uri": "https://localhost:8080/"
        },
        "id": "C5tKSgmVFJzt",
        "outputId": "ca2d0def-e61f-4989-f53c-d48d791b05f7"
      },
      "execution_count": null,
      "outputs": [
        {
          "output_type": "execute_result",
          "data": {
            "text/plain": [
              "array([-1.36285096e-01,  6.36654681e-01,  6.61742363e-01,  6.84510950e-01,\n",
              "        4.79967427e-01, -6.97019337e-01,  6.72380939e-01, -1.38853600e-01,\n",
              "        4.12682800e-01,  2.14149651e-01, -8.40385898e-02,  1.54630015e-01,\n",
              "       -9.20745238e-01, -4.77285461e-01, -1.69571696e-01,  2.11150277e-01,\n",
              "        5.66509907e-01,  1.99725535e-01, -1.42329842e-01,  4.86533643e-02,\n",
              "       -1.65914218e-01,  2.80608115e-01, -7.44684425e-01, -2.31181549e-01,\n",
              "       -5.80504467e-01, -1.80663194e-01, -7.42606702e-01,  6.46137552e-01,\n",
              "       -5.77724372e-01,  2.41805219e-01, -7.26131215e-01, -2.87291823e-04,\n",
              "        4.55154827e-01, -6.66739138e-01,  4.22060581e-01,  4.82059348e-01,\n",
              "       -6.78345898e-01,  9.66482995e-01,  8.83777385e-01, -3.70961171e-01,\n",
              "        7.24902344e-02,  7.24813252e-01,  7.41588042e-02,  4.72380369e-01,\n",
              "        1.30051269e-01,  7.92307723e-01, -7.54591699e-01,  4.49720217e-01,\n",
              "        4.43349751e-01,  3.65464141e-01,  4.46297574e-01,  3.58351196e-01,\n",
              "       -3.49819470e-01,  4.88544254e-01,  1.49282056e-01, -6.26688129e-01,\n",
              "        7.54573378e-01,  6.96164699e-01,  4.19457341e-01,  6.30069812e-01,\n",
              "       -1.81883270e-01, -2.37865385e-01, -4.33419656e-01,  7.47048241e-01,\n",
              "       -2.41919020e-01, -9.86571006e-01,  1.75769376e-01, -8.60076545e-01,\n",
              "       -9.12929017e-01, -5.48531238e-01,  7.07575919e-01, -4.15390911e-01,\n",
              "        9.41867572e-01,  6.31072526e-01, -5.92267562e-01, -2.26238031e-02,\n",
              "        8.96100466e-01, -4.34485324e-01, -3.28957694e-01,  6.23054983e-01,\n",
              "       -2.02391094e-01,  8.17161208e-01,  4.08848982e-02,  3.80358452e-01,\n",
              "       -1.96184993e-01, -3.83163169e-01, -5.86957397e-01,  4.42919816e-01,\n",
              "        2.68068989e-01,  7.07379740e-01, -1.90534009e-01,  3.70103778e-01,\n",
              "       -2.77160100e-01, -9.60194581e-01,  8.92635572e-01, -1.03686298e-01,\n",
              "        9.69548296e-01,  4.68533692e-01,  8.82773253e-01, -2.57445310e-01])"
            ]
          },
          "metadata": {},
          "execution_count": 31
        }
      ]
    },
    {
      "cell_type": "markdown",
      "source": [
        "78. Consider 2 sets of points P0,P1 describing lines (2d) and a point p, how to compute distance from p to each line i (P0[i],P1[i])? (★★★)"
      ],
      "metadata": {
        "id": "fjNITFYIFQr7"
      }
    },
    {
      "cell_type": "code",
      "source": [
        "import numpy as np\n",
        "def distance(P0, P1, p):\n",
        "    T = P1 - P0\n",
        "    L = (T**2).sum(axis=1)\n",
        "    U = -((P0[:,0]-p[...,0])*T[:,0] + (P0[:,1]-p[...,1])*T[:,1]) / L\n",
        "    U = U.reshape(len(U),1)\n",
        "    D = P0 + U*T - p\n",
        "    return np.sqrt((D**2).sum(axis=1))\n",
        "\n",
        "P0 = np.random.uniform(-10,10,(10,2))\n",
        "P1 = np.random.uniform(-10,10,(10,2))\n",
        "p  = np.random.uniform(-10,10,( 1,2))\n",
        "print(distance(P0, P1, p))"
      ],
      "metadata": {
        "colab": {
          "base_uri": "https://localhost:8080/"
        },
        "id": "RWpHCF4JFXRQ",
        "outputId": "01dd2ff4-87db-49c5-aae2-025d2abccda2"
      },
      "execution_count": null,
      "outputs": [
        {
          "output_type": "stream",
          "name": "stdout",
          "text": [
            "[13.75252471 15.02405272  0.6515964   3.09641534  7.38038695  2.28167377\n",
            "  3.72671002  6.57896727  5.28921261  6.10789293]\n"
          ]
        }
      ]
    },
    {
      "cell_type": "markdown",
      "source": [
        "79. Consider 2 sets of points P0,P1 describing lines (2d) and a set of points P, how to compute distance from each point j (P[j]) to each line i (P0[i],P1[i])? (★★★)\n"
      ],
      "metadata": {
        "id": "n-tlvjeb4I3p"
      }
    },
    {
      "cell_type": "code",
      "source": [
        "# based on distance function from previous question\n",
        "import numpy as np\n",
        "def distance(P0, P1, p):\n",
        "    T = P1 - P0\n",
        "    L = (T**2).sum(axis=1)\n",
        "    U = -((P0[:,0]-p[...,0])*T[:,0] + (P0[:,1]-p[...,1])*T[:,1]) / L\n",
        "    U = U.reshape(len(U),1)\n",
        "    D = P0 + U*T - p\n",
        "    return np.sqrt((D**2).sum(axis=1))\n",
        "\n",
        "P0 = np.random.uniform(-10, 10, (10,2))\n",
        "P1 = np.random.uniform(-10,10,(10,2))\n",
        "p = np.random.uniform(-10, 10, (10,2))\n",
        "print(np.array([distance(P0,P1,p_i) for p_i in p]))"
      ],
      "metadata": {
        "colab": {
          "base_uri": "https://localhost:8080/"
        },
        "id": "mMI-Iqd54dOs",
        "outputId": "0acbc269-b02d-4ee9-e5ed-b5071f16b970"
      },
      "execution_count": null,
      "outputs": [
        {
          "output_type": "stream",
          "name": "stdout",
          "text": [
            "[[ 1.42623117  5.43627675  4.44640151  0.15147256  8.98870748  8.48560475\n",
            "   1.77684185  6.46563404  7.37532238 16.85977649]\n",
            " [13.81532198 10.01074866  6.38868734  2.09403804  5.27171682  4.29750255\n",
            "  13.53818446  7.96706857  1.9900872   1.59809409]\n",
            " [ 1.25400956  2.21097537  3.64050655  2.15336214  5.421895    4.88594813\n",
            "   1.55411117  4.288139    4.01954438 14.16217094]\n",
            " [13.48681078 12.55213505  0.05441103 12.83271564 10.94596446 11.6563178\n",
            "  16.81021331  5.61990941 11.43954699  1.84895783]\n",
            " [ 0.84987754  0.32606518  8.88471217 10.70482887  1.02506692  0.86937393\n",
            "   4.02350065  6.29616848  3.43649492 14.50450666]\n",
            " [ 1.62252206  2.72716791  1.45652548  1.13120475  6.92855687  6.93988717\n",
            "   0.80945637  3.30896685  6.78042096 13.81733979]\n",
            " [ 2.33215805  2.82664332 12.71165644 12.95446032  2.49485153  0.12451529\n",
            "   1.73389159  9.82244724  3.91345799 17.67106755]\n",
            " [ 4.45776069  0.1189112   1.13195566  1.70877963  4.82773036  5.26636284\n",
            "   3.32600726  0.43632879  5.92875755 10.985561  ]\n",
            " [ 1.29417444  1.32977713 12.93488159 14.77701292  0.59784851  2.17671939\n",
            "   3.33441714  9.15469373  6.04509841 16.61962763]\n",
            " [12.92015005  8.16843419  7.77240979  1.54709354  2.48823324  1.06312106\n",
            "  11.46685583  7.78177961  1.6997283   2.51984964]]\n"
          ]
        }
      ]
    },
    {
      "cell_type": "markdown",
      "source": [
        "80. Consider an arbitrary array, write a function that extract a subpart with a fixed shape and centered on a given element (pad with a fill value when necessary) (★★★)"
      ],
      "metadata": {
        "id": "oxTbAZrN4v6Y"
      }
    },
    {
      "cell_type": "code",
      "source": [
        "import sliding\n",
        "Z = np.arange(1,15,dtype=np.uint32)\n",
        "R = stride_tricks.as_strided(Z,(11,4),(4,4))\n",
        "print(R)"
      ],
      "metadata": {
        "colab": {
          "base_uri": "https://localhost:8080/",
          "height": 106
        },
        "id": "h8vs8Cc46D4O",
        "outputId": "798fb2fc-392d-40b9-c7aa-5b49bd9425ba"
      },
      "execution_count": null,
      "outputs": [
        {
          "output_type": "error",
          "ename": "SyntaxError",
          "evalue": "invalid syntax (<ipython-input-5-cb62177066e3>, line 1)",
          "traceback": [
            "\u001b[0;36m  File \u001b[0;32m\"<ipython-input-5-cb62177066e3>\"\u001b[0;36m, line \u001b[0;32m1\u001b[0m\n\u001b[0;31m    import sliding_window_view (np>=1.20.0)\u001b[0m\n\u001b[0m                               ^\u001b[0m\n\u001b[0;31mSyntaxError\u001b[0m\u001b[0;31m:\u001b[0m invalid syntax\n"
          ]
        }
      ]
    },
    {
      "cell_type": "markdown",
      "source": [
        "81. Consider an array Z = [1,2,3,4,5,6,7,8,9,10,11,12,13,14], how to generate an array R = [[1,2,3,4], [2,3,4,5], [3,4,5,6], ..., [11,12,13,14]]? (★★★)"
      ],
      "metadata": {
        "id": "gmAxNievAxgI"
      }
    },
    {
      "cell_type": "code",
      "source": [],
      "metadata": {
        "id": "qs3wfREnA54G"
      },
      "execution_count": null,
      "outputs": []
    },
    {
      "cell_type": "markdown",
      "source": [
        "Z = np.random.uniform(0,1,(10,10))\n",
        "U, S, V = np.linalg.svd(Z) # Singular Value Decomposition\n",
        "rank = np.sum(S > 1e-10)\n",
        "print(rank)"
      ],
      "metadata": {
        "id": "5I7VKjpLCBfj"
      }
    },
    {
      "cell_type": "markdown",
      "source": [
        "82. Compute a matrix rank (★★★)"
      ],
      "metadata": {
        "id": "8xY8f6nXCN2E"
      }
    },
    {
      "cell_type": "code",
      "source": [
        "Z = np.random.uniform(0,1,(10,10))\n",
        "U, S, V = np.linalg.svd(Z) # Singular Value Decomposition\n",
        "rank = np.sum(S > 1e-10)\n",
        "print(rank)"
      ],
      "metadata": {
        "colab": {
          "base_uri": "https://localhost:8080/"
        },
        "id": "KiLP_awVCE4g",
        "outputId": "a5bbd8e7-f431-44fe-d315-f7ba8d882d9c"
      },
      "execution_count": null,
      "outputs": [
        {
          "output_type": "stream",
          "name": "stdout",
          "text": [
            "10\n"
          ]
        }
      ]
    },
    {
      "cell_type": "markdown",
      "source": [
        "83. How to find the most frequent value in an array?`````````````````````````````````````````````"
      ],
      "metadata": {
        "id": "V2Zkk4pMDWxy"
      }
    },
    {
      "cell_type": "code",
      "source": [
        "# create array\n",
        "z = np.array([1,2,4,8,5,1,2,7,7,7])\n",
        "print(\"Original array:\")\n",
        "print(z)\n",
        "\n",
        "print(\"Most frequent value in the above array:\")\n",
        "print(np.bincount(z).argmax())"
      ],
      "metadata": {
        "colab": {
          "base_uri": "https://localhost:8080/"
        },
        "id": "KP-6ryNvDk0C",
        "outputId": "1480a0dc-b3ea-4a3f-910b-15df7dd6f4b4"
      },
      "execution_count": null,
      "outputs": [
        {
          "output_type": "stream",
          "name": "stdout",
          "text": [
            "Original array:\n",
            "[1 2 4 8 5 1 2 7 7 7]\n",
            "Most frequent value in the above array:\n",
            "7\n"
          ]
        }
      ]
    },
    {
      "cell_type": "markdown",
      "source": [
        "84. Extract all the contiguous 3x3 blocks from a random 10x10 matrix (★★★)"
      ],
      "metadata": {
        "id": "eT_AsU8lDY1V"
      }
    },
    {
      "cell_type": "code",
      "source": [
        "import numpy as np\n",
        "stride_tricks = np.lib.stride_tricks\n",
        "\n",
        "arra1 = np.random.randint(0, 5, (10, 10))\n",
        "\n",
        "# Displaying the original array 'arra1'\n",
        "print(\"Original arrays:\")\n",
        "print(arra1)\n",
        "\n",
        "# Specifying the block size 'n' as 3\n",
        "n = 3\n",
        "\n",
        "# Calculating dimensions 'i' and 'j' for the resulting array based on the original array shape\n",
        "i = 1 + (arra1.shape[0] - 3)\n",
        "j = 1 + (arra1.shape[1] - 3)\n",
        "\n",
        "# Using stride tricks to create a view on 'arra1' with shape (i, j, n) representing contiguous 3by3blocks\n",
        "result = stride_tricks.as_strided(arra1, shape=(i, j, n, n), strides=arra1.strides + arra1.strides)\n",
        "\n",
        "# Displaying the contiguous 3by3 blocks obtained from the original array\n",
        "print(\"\\nContiguous 3by3 blocks:\")\n",
        "print(result)"
      ],
      "metadata": {
        "colab": {
          "base_uri": "https://localhost:8080/"
        },
        "id": "JqSWVzoEF3F0",
        "outputId": "b53a964c-af1e-4742-a789-ad0e3036000d"
      },
      "execution_count": null,
      "outputs": [
        {
          "output_type": "stream",
          "name": "stdout",
          "text": [
            "Original arrays:\n",
            "[[2 3 1 0 0 2 1 0 1 0]\n",
            " [4 1 2 1 0 4 3 0 3 4]\n",
            " [0 1 3 2 1 3 0 1 4 3]\n",
            " [0 2 2 4 3 3 4 3 4 4]\n",
            " [2 1 3 4 2 4 1 2 2 2]\n",
            " [2 4 1 3 1 1 1 0 1 3]\n",
            " [3 1 1 0 4 0 2 4 0 0]\n",
            " [0 3 3 2 1 1 4 2 1 4]\n",
            " [3 4 4 4 4 0 4 1 4 1]\n",
            " [3 4 3 2 2 2 2 3 0 2]]\n",
            "\n",
            "Contiguous 3by3 blocks:\n",
            "[[[[2 3 1]\n",
            "   [4 1 2]\n",
            "   [0 1 3]]\n",
            "\n",
            "  [[3 1 0]\n",
            "   [1 2 1]\n",
            "   [1 3 2]]\n",
            "\n",
            "  [[1 0 0]\n",
            "   [2 1 0]\n",
            "   [3 2 1]]\n",
            "\n",
            "  [[0 0 2]\n",
            "   [1 0 4]\n",
            "   [2 1 3]]\n",
            "\n",
            "  [[0 2 1]\n",
            "   [0 4 3]\n",
            "   [1 3 0]]\n",
            "\n",
            "  [[2 1 0]\n",
            "   [4 3 0]\n",
            "   [3 0 1]]\n",
            "\n",
            "  [[1 0 1]\n",
            "   [3 0 3]\n",
            "   [0 1 4]]\n",
            "\n",
            "  [[0 1 0]\n",
            "   [0 3 4]\n",
            "   [1 4 3]]]\n",
            "\n",
            "\n",
            " [[[4 1 2]\n",
            "   [0 1 3]\n",
            "   [0 2 2]]\n",
            "\n",
            "  [[1 2 1]\n",
            "   [1 3 2]\n",
            "   [2 2 4]]\n",
            "\n",
            "  [[2 1 0]\n",
            "   [3 2 1]\n",
            "   [2 4 3]]\n",
            "\n",
            "  [[1 0 4]\n",
            "   [2 1 3]\n",
            "   [4 3 3]]\n",
            "\n",
            "  [[0 4 3]\n",
            "   [1 3 0]\n",
            "   [3 3 4]]\n",
            "\n",
            "  [[4 3 0]\n",
            "   [3 0 1]\n",
            "   [3 4 3]]\n",
            "\n",
            "  [[3 0 3]\n",
            "   [0 1 4]\n",
            "   [4 3 4]]\n",
            "\n",
            "  [[0 3 4]\n",
            "   [1 4 3]\n",
            "   [3 4 4]]]\n",
            "\n",
            "\n",
            " [[[0 1 3]\n",
            "   [0 2 2]\n",
            "   [2 1 3]]\n",
            "\n",
            "  [[1 3 2]\n",
            "   [2 2 4]\n",
            "   [1 3 4]]\n",
            "\n",
            "  [[3 2 1]\n",
            "   [2 4 3]\n",
            "   [3 4 2]]\n",
            "\n",
            "  [[2 1 3]\n",
            "   [4 3 3]\n",
            "   [4 2 4]]\n",
            "\n",
            "  [[1 3 0]\n",
            "   [3 3 4]\n",
            "   [2 4 1]]\n",
            "\n",
            "  [[3 0 1]\n",
            "   [3 4 3]\n",
            "   [4 1 2]]\n",
            "\n",
            "  [[0 1 4]\n",
            "   [4 3 4]\n",
            "   [1 2 2]]\n",
            "\n",
            "  [[1 4 3]\n",
            "   [3 4 4]\n",
            "   [2 2 2]]]\n",
            "\n",
            "\n",
            " [[[0 2 2]\n",
            "   [2 1 3]\n",
            "   [2 4 1]]\n",
            "\n",
            "  [[2 2 4]\n",
            "   [1 3 4]\n",
            "   [4 1 3]]\n",
            "\n",
            "  [[2 4 3]\n",
            "   [3 4 2]\n",
            "   [1 3 1]]\n",
            "\n",
            "  [[4 3 3]\n",
            "   [4 2 4]\n",
            "   [3 1 1]]\n",
            "\n",
            "  [[3 3 4]\n",
            "   [2 4 1]\n",
            "   [1 1 1]]\n",
            "\n",
            "  [[3 4 3]\n",
            "   [4 1 2]\n",
            "   [1 1 0]]\n",
            "\n",
            "  [[4 3 4]\n",
            "   [1 2 2]\n",
            "   [1 0 1]]\n",
            "\n",
            "  [[3 4 4]\n",
            "   [2 2 2]\n",
            "   [0 1 3]]]\n",
            "\n",
            "\n",
            " [[[2 1 3]\n",
            "   [2 4 1]\n",
            "   [3 1 1]]\n",
            "\n",
            "  [[1 3 4]\n",
            "   [4 1 3]\n",
            "   [1 1 0]]\n",
            "\n",
            "  [[3 4 2]\n",
            "   [1 3 1]\n",
            "   [1 0 4]]\n",
            "\n",
            "  [[4 2 4]\n",
            "   [3 1 1]\n",
            "   [0 4 0]]\n",
            "\n",
            "  [[2 4 1]\n",
            "   [1 1 1]\n",
            "   [4 0 2]]\n",
            "\n",
            "  [[4 1 2]\n",
            "   [1 1 0]\n",
            "   [0 2 4]]\n",
            "\n",
            "  [[1 2 2]\n",
            "   [1 0 1]\n",
            "   [2 4 0]]\n",
            "\n",
            "  [[2 2 2]\n",
            "   [0 1 3]\n",
            "   [4 0 0]]]\n",
            "\n",
            "\n",
            " [[[2 4 1]\n",
            "   [3 1 1]\n",
            "   [0 3 3]]\n",
            "\n",
            "  [[4 1 3]\n",
            "   [1 1 0]\n",
            "   [3 3 2]]\n",
            "\n",
            "  [[1 3 1]\n",
            "   [1 0 4]\n",
            "   [3 2 1]]\n",
            "\n",
            "  [[3 1 1]\n",
            "   [0 4 0]\n",
            "   [2 1 1]]\n",
            "\n",
            "  [[1 1 1]\n",
            "   [4 0 2]\n",
            "   [1 1 4]]\n",
            "\n",
            "  [[1 1 0]\n",
            "   [0 2 4]\n",
            "   [1 4 2]]\n",
            "\n",
            "  [[1 0 1]\n",
            "   [2 4 0]\n",
            "   [4 2 1]]\n",
            "\n",
            "  [[0 1 3]\n",
            "   [4 0 0]\n",
            "   [2 1 4]]]\n",
            "\n",
            "\n",
            " [[[3 1 1]\n",
            "   [0 3 3]\n",
            "   [3 4 4]]\n",
            "\n",
            "  [[1 1 0]\n",
            "   [3 3 2]\n",
            "   [4 4 4]]\n",
            "\n",
            "  [[1 0 4]\n",
            "   [3 2 1]\n",
            "   [4 4 4]]\n",
            "\n",
            "  [[0 4 0]\n",
            "   [2 1 1]\n",
            "   [4 4 0]]\n",
            "\n",
            "  [[4 0 2]\n",
            "   [1 1 4]\n",
            "   [4 0 4]]\n",
            "\n",
            "  [[0 2 4]\n",
            "   [1 4 2]\n",
            "   [0 4 1]]\n",
            "\n",
            "  [[2 4 0]\n",
            "   [4 2 1]\n",
            "   [4 1 4]]\n",
            "\n",
            "  [[4 0 0]\n",
            "   [2 1 4]\n",
            "   [1 4 1]]]\n",
            "\n",
            "\n",
            " [[[0 3 3]\n",
            "   [3 4 4]\n",
            "   [3 4 3]]\n",
            "\n",
            "  [[3 3 2]\n",
            "   [4 4 4]\n",
            "   [4 3 2]]\n",
            "\n",
            "  [[3 2 1]\n",
            "   [4 4 4]\n",
            "   [3 2 2]]\n",
            "\n",
            "  [[2 1 1]\n",
            "   [4 4 0]\n",
            "   [2 2 2]]\n",
            "\n",
            "  [[1 1 4]\n",
            "   [4 0 4]\n",
            "   [2 2 2]]\n",
            "\n",
            "  [[1 4 2]\n",
            "   [0 4 1]\n",
            "   [2 2 3]]\n",
            "\n",
            "  [[4 2 1]\n",
            "   [4 1 4]\n",
            "   [2 3 0]]\n",
            "\n",
            "  [[2 1 4]\n",
            "   [1 4 1]\n",
            "   [3 0 2]]]]\n"
          ]
        }
      ]
    },
    {
      "cell_type": "markdown",
      "source": [
        "85. Create a 2D array subclass such that Z[i,j] == Z[j,i] (★★★)"
      ],
      "metadata": {
        "id": "zuvhXmZfDY_I"
      }
    },
    {
      "cell_type": "code",
      "source": [
        "class Symetric(np.ndarray):\n",
        "    def __setitem__(self, index, value):\n",
        "        i,j = index\n",
        "        super(Symetric, self).__setitem__((i,j), value)\n",
        "        super(Symetric, self).__setitem__((j,i), value)\n",
        "\n",
        "def symetric(Z):\n",
        "    return np.asarray(Z + Z.T - np.diag(Z.diagonal())).view(Symetric)\n",
        "\n",
        "S = symetric(np.random.randint(0,10,(5,5)))\n",
        "S[2,3] = 42\n",
        "print(S)"
      ],
      "metadata": {
        "colab": {
          "base_uri": "https://localhost:8080/"
        },
        "id": "Z6nTNX-Ocy5M",
        "outputId": "d8c2b14f-277b-42d7-af80-e0f39168fada"
      },
      "execution_count": null,
      "outputs": [
        {
          "output_type": "stream",
          "name": "stdout",
          "text": [
            "[[ 9 12 13 17 11]\n",
            " [12  9 11 11 12]\n",
            " [13 11  8 42 10]\n",
            " [17 11 42  7 15]\n",
            " [11 12 10 15  7]]\n"
          ]
        }
      ]
    },
    {
      "cell_type": "markdown",
      "source": [
        "86. Consider a set of p matrices wich shape (n,n) and a set of p vectors with shape (n,1). How to compute the sum of of the p matrix products at once? (result has shape (n,1)) (★★★)"
      ],
      "metadata": {
        "id": "JODxsn_9DZDa"
      }
    },
    {
      "cell_type": "code",
      "source": [],
      "metadata": {
        "colab": {
          "base_uri": "https://localhost:8080/"
        },
        "id": "Qbtfw9p7dFFN",
        "outputId": "94d1aa3a-15a1-4c89-9b13-f1a344553b36"
      },
      "execution_count": null,
      "outputs": [
        {
          "output_type": "stream",
          "name": "stdout",
          "text": [
            "[[1. 1. 1. 1. 1. 1. 1. 1. 1. 1. 1. 1. 1. 1. 1. 1.]\n",
            " [1. 1. 1. 1. 1. 1. 1. 1. 1. 1. 1. 1. 1. 1. 1. 1.]\n",
            " [1. 1. 1. 1. 1. 1. 1. 1. 1. 1. 1. 1. 1. 1. 1. 1.]\n",
            " [1. 1. 1. 1. 1. 1. 1. 1. 1. 1. 1. 1. 1. 1. 1. 1.]\n",
            " [1. 1. 1. 1. 1. 1. 1. 1. 1. 1. 1. 1. 1. 1. 1. 1.]\n",
            " [1. 1. 1. 1. 1. 1. 1. 1. 1. 1. 1. 1. 1. 1. 1. 1.]\n",
            " [1. 1. 1. 1. 1. 1. 1. 1. 1. 1. 1. 1. 1. 1. 1. 1.]\n",
            " [1. 1. 1. 1. 1. 1. 1. 1. 1. 1. 1. 1. 1. 1. 1. 1.]\n",
            " [1. 1. 1. 1. 1. 1. 1. 1. 1. 1. 1. 1. 1. 1. 1. 1.]\n",
            " [1. 1. 1. 1. 1. 1. 1. 1. 1. 1. 1. 1. 1. 1. 1. 1.]\n",
            " [1. 1. 1. 1. 1. 1. 1. 1. 1. 1. 1. 1. 1. 1. 1. 1.]\n",
            " [1. 1. 1. 1. 1. 1. 1. 1. 1. 1. 1. 1. 1. 1. 1. 1.]\n",
            " [1. 1. 1. 1. 1. 1. 1. 1. 1. 1. 1. 1. 1. 1. 1. 1.]\n",
            " [1. 1. 1. 1. 1. 1. 1. 1. 1. 1. 1. 1. 1. 1. 1. 1.]\n",
            " [1. 1. 1. 1. 1. 1. 1. 1. 1. 1. 1. 1. 1. 1. 1. 1.]\n",
            " [1. 1. 1. 1. 1. 1. 1. 1. 1. 1. 1. 1. 1. 1. 1. 1.]]\n",
            "[[16. 16. 16. 16.]\n",
            " [16. 16. 16. 16.]\n",
            " [16. 16. 16. 16.]\n",
            " [16. 16. 16. 16.]]\n"
          ]
        }
      ]
    },
    {
      "cell_type": "markdown",
      "source": [
        "87. Consider a 16x16 array, how to get the block-sum (block size is 4x4)? (★★★)\n"
      ],
      "metadata": {
        "id": "vfR9jSB1DZIX"
      }
    },
    {
      "cell_type": "code",
      "source": [
        "x = np.ones((16,16))\n",
        "print (x)\n",
        "k = 4\n",
        "S = np.add.reduceat(np.add.reduceat(x, np.arange(0, Z.shape[0], k), axis=0),\n",
        "                                       np.arange(0, Z.shape[1], k), axis=1)\n",
        "print(S)"
      ],
      "metadata": {
        "colab": {
          "base_uri": "https://localhost:8080/"
        },
        "id": "Vu1-zZZBfjqC",
        "outputId": "03068251-796b-4457-90c1-aa84c9e3ecff"
      },
      "execution_count": null,
      "outputs": [
        {
          "output_type": "stream",
          "name": "stdout",
          "text": [
            "[[1. 1. 1. 1. 1. 1. 1. 1. 1. 1. 1. 1. 1. 1. 1. 1.]\n",
            " [1. 1. 1. 1. 1. 1. 1. 1. 1. 1. 1. 1. 1. 1. 1. 1.]\n",
            " [1. 1. 1. 1. 1. 1. 1. 1. 1. 1. 1. 1. 1. 1. 1. 1.]\n",
            " [1. 1. 1. 1. 1. 1. 1. 1. 1. 1. 1. 1. 1. 1. 1. 1.]\n",
            " [1. 1. 1. 1. 1. 1. 1. 1. 1. 1. 1. 1. 1. 1. 1. 1.]\n",
            " [1. 1. 1. 1. 1. 1. 1. 1. 1. 1. 1. 1. 1. 1. 1. 1.]\n",
            " [1. 1. 1. 1. 1. 1. 1. 1. 1. 1. 1. 1. 1. 1. 1. 1.]\n",
            " [1. 1. 1. 1. 1. 1. 1. 1. 1. 1. 1. 1. 1. 1. 1. 1.]\n",
            " [1. 1. 1. 1. 1. 1. 1. 1. 1. 1. 1. 1. 1. 1. 1. 1.]\n",
            " [1. 1. 1. 1. 1. 1. 1. 1. 1. 1. 1. 1. 1. 1. 1. 1.]\n",
            " [1. 1. 1. 1. 1. 1. 1. 1. 1. 1. 1. 1. 1. 1. 1. 1.]\n",
            " [1. 1. 1. 1. 1. 1. 1. 1. 1. 1. 1. 1. 1. 1. 1. 1.]\n",
            " [1. 1. 1. 1. 1. 1. 1. 1. 1. 1. 1. 1. 1. 1. 1. 1.]\n",
            " [1. 1. 1. 1. 1. 1. 1. 1. 1. 1. 1. 1. 1. 1. 1. 1.]\n",
            " [1. 1. 1. 1. 1. 1. 1. 1. 1. 1. 1. 1. 1. 1. 1. 1.]\n",
            " [1. 1. 1. 1. 1. 1. 1. 1. 1. 1. 1. 1. 1. 1. 1. 1.]]\n",
            "[[16. 16. 16. 16.]\n",
            " [16. 16. 16. 16.]\n",
            " [16. 16. 16. 16.]\n",
            " [16. 16. 16. 16.]]\n"
          ]
        }
      ]
    },
    {
      "cell_type": "markdown",
      "source": [
        "88. How to implement the Game of Life using numpy arrays? (★★★)\n"
      ],
      "metadata": {
        "id": "M-EEVsQnDZR9"
      }
    },
    {
      "cell_type": "markdown",
      "source": [
        "89. How to get the n largest values of an array (★★★)\n"
      ],
      "metadata": {
        "id": "ouo04bSWDZW6"
      }
    },
    {
      "cell_type": "code",
      "source": [
        "import numpy as np\n",
        "\n",
        "# Creating an array 'x' containing numbers from 0 to 9 using arange() function\n",
        "x = np.arange(10)\n",
        "\n",
        "# Displaying the original array 'x'\n",
        "print(\"Original array:\")\n",
        "print(x)\n",
        "\n",
        "# Shuffling the elements in array 'x'\n",
        "np.random.shuffle(x)\n",
        "\n",
        "# Selecting the 'n' largest elements in 'x' using argsort and slicing\n",
        "n = 1\n",
        "print(x[np.argsort(x)[-n:]])"
      ],
      "metadata": {
        "colab": {
          "base_uri": "https://localhost:8080/"
        },
        "id": "9iIlW5DgmcRH",
        "outputId": "a7ac7039-a640-40ed-f6e9-99860339d3a6"
      },
      "execution_count": 1,
      "outputs": [
        {
          "output_type": "stream",
          "name": "stdout",
          "text": [
            "Original array:\n",
            "[0 1 2 3 4 5 6 7 8 9]\n",
            "[9]\n"
          ]
        }
      ]
    },
    {
      "cell_type": "markdown",
      "source": [
        "90. Given an arbitrary number of vectors, build the cartesian product (every combinations of every item) (★★★)"
      ],
      "metadata": {
        "id": "Udsk5ztGDZdh"
      }
    },
    {
      "cell_type": "code",
      "source": [
        "def cartesian(arrays):\n",
        "    arrays = [np.asarray(a) for a in arrays]\n",
        "    shape = (len(x) for x in arrays)\n",
        "\n",
        "    ix = np.indices(shape, dtype=int)\n",
        "    ix = ix.reshape(len(arrays), -1).T\n",
        "\n",
        "    for n, arr in enumerate(arrays):\n",
        "        ix[:, n] = arrays[n][ix[:, n]]\n",
        "\n",
        "    return ix\n",
        "\n",
        "print (cartesian(([1, 2, 3], [4, 5], [6, 7])))"
      ],
      "metadata": {
        "colab": {
          "base_uri": "https://localhost:8080/"
        },
        "id": "3PTD_YdHmsTV",
        "outputId": "b47b4a62-e1b7-4a46-baa8-3a4b5ad0e3a1"
      },
      "execution_count": 2,
      "outputs": [
        {
          "output_type": "stream",
          "name": "stdout",
          "text": [
            "[[1 4 6]\n",
            " [1 4 7]\n",
            " [1 5 6]\n",
            " [1 5 7]\n",
            " [2 4 6]\n",
            " [2 4 7]\n",
            " [2 5 6]\n",
            " [2 5 7]\n",
            " [3 4 6]\n",
            " [3 4 7]\n",
            " [3 5 6]\n",
            " [3 5 7]]\n"
          ]
        }
      ]
    },
    {
      "cell_type": "markdown",
      "source": [
        "91. How to create a record array from a regular array? (★★★)\n"
      ],
      "metadata": {
        "id": "vSpQIYkEDZjD"
      }
    },
    {
      "cell_type": "code",
      "source": [
        "# Creating a NumPy array 'arra1' containing records with names and corresponding scores\n",
        "arra1 = np.array([(\"Colin Powell\", 88.5, 90),\n",
        "                 (\"Uhuru Kenyatta\", 87, 99),\n",
        "                 (\"Whitney Houston\", 85.5, 91)])\n",
        "\n",
        "# Displaying the original array 'arra1'\n",
        "print(\"Original arrays:\")\n",
        "print(arra1)\n",
        "\n",
        "# Converting the array 'arra1' into a record array with named fields 'col1', 'col2', and 'col3'\n",
        "result = np.core.records.fromarrays(arra1.T,\n",
        "                                    names='col1, col2, col3',\n",
        "                                    formats='S80, f8, i8')\n",
        "\n",
        "# Displaying the record array 'result'\n",
        "print(\"\\nRecord array;\")\n",
        "print(result)"
      ],
      "metadata": {
        "colab": {
          "base_uri": "https://localhost:8080/"
        },
        "id": "neRuizclnPZX",
        "outputId": "5a7b50d2-5840-4014-e4db-5181ecebba86"
      },
      "execution_count": 4,
      "outputs": [
        {
          "output_type": "stream",
          "name": "stdout",
          "text": [
            "Original arrays:\n",
            "[['Colin Powell' '88.5' '90']\n",
            " ['Uhuru Kenyatta' '87' '99']\n",
            " ['Whitney Houston' '85.5' '91']]\n",
            "\n",
            "Record array;\n",
            "[(b'Colin Powell', 88.5, 90) (b'Uhuru Kenyatta', 87. , 99)\n",
            " (b'Whitney Houston', 85.5, 91)]\n"
          ]
        }
      ]
    },
    {
      "cell_type": "markdown",
      "source": [
        "92. Consider a large vector Z, compute Z to the power of 3 using 3 different methods (★★★)"
      ],
      "metadata": {
        "id": "CiM4OkMdDXOg"
      }
    },
    {
      "cell_type": "code",
      "source": [
        "x = np.random.rand(int(5e7))\n",
        "\n",
        "%timeit np.power(x,3)\n",
        "%timeit x*x*x\n",
        "%timeit np.einsum('i,i,i->i',x,x,x)"
      ],
      "metadata": {
        "colab": {
          "base_uri": "https://localhost:8080/"
        },
        "id": "49zVszm8olWs",
        "outputId": "06e80c1c-f9e5-480b-bfb5-ab79dffb9373"
      },
      "execution_count": 5,
      "outputs": [
        {
          "output_type": "stream",
          "name": "stdout",
          "text": [
            "1.51 s ± 209 ms per loop (mean ± std. dev. of 7 runs, 1 loop each)\n",
            "221 ms ± 16.7 ms per loop (mean ± std. dev. of 7 runs, 1 loop each)\n",
            "228 ms ± 41.5 ms per loop (mean ± std. dev. of 7 runs, 1 loop each)\n"
          ]
        }
      ]
    },
    {
      "cell_type": "markdown",
      "source": [
        "\n",
        "93. Consider two arrays A and B of shape (8,3) and (2,2). How to find rows of A that contain elements of each row of B regardless of the order of the elements in B? (★★★)"
      ],
      "metadata": {
        "id": "brJIKlzgpX4i"
      }
    },
    {
      "cell_type": "code",
      "source": [
        "import numpy as np\n",
        "A = np.random.randint(0,5,(8,3))\n",
        "print(A)\n",
        "B = np.random.randint(0,5,(2,2))\n",
        "print(B)\n",
        "\n",
        "C = (A[..., np.newaxis, np.newaxis] == B)\n",
        "rows = np.where(C.any((3,1)).all(1))[0]\n",
        "print(rows)\n"
      ],
      "metadata": {
        "colab": {
          "base_uri": "https://localhost:8080/"
        },
        "id": "sfHCB-AEpdV2",
        "outputId": "974e214e-4166-4ffb-c467-36c6474d4bb6"
      },
      "execution_count": 2,
      "outputs": [
        {
          "output_type": "stream",
          "name": "stdout",
          "text": [
            "[[0 4 2]\n",
            " [1 0 0]\n",
            " [4 3 4]\n",
            " [2 4 4]\n",
            " [2 4 1]\n",
            " [0 0 2]\n",
            " [2 3 2]\n",
            " [2 3 2]]\n",
            "[[3 0]\n",
            " [0 4]]\n",
            "[0 1 2 5]\n"
          ]
        }
      ]
    },
    {
      "cell_type": "markdown",
      "source": [
        "94. Considering a 10x3 matrix, extract rows with unequal values (e.g. [2,2,3]) (★★★)"
      ],
      "metadata": {
        "id": "PjcjlsX4bbqy"
      }
    },
    {
      "cell_type": "code",
      "source": [
        "nums = np.random.randint(0, 4, (10, 3))\n",
        "\n",
        "# Displaying the original array 'nums'\n",
        "print(\"Original vector:\")\n",
        "print(nums)\n",
        "\n",
        "# Checking for rows where consecutive elements are not equal within each row\n",
        "# using np.logical_and.reduce and axis=1 to check row-wise\n",
        "new_nums = np.logical_and.reduce(nums[:, 1:] == nums[:, :-1], axis=1)\n",
        "\n",
        "# Filtering out rows with unequal consecutive values and storing in 'result'\n",
        "result = nums[~new_nums]\n",
        "\n",
        "# Displaying rows with unequal consecutive values\n",
        "print(\"\\nRows with unequal values:\")\n",
        "print(result)"
      ],
      "metadata": {
        "colab": {
          "base_uri": "https://localhost:8080/"
        },
        "id": "RahUjn9Iblct",
        "outputId": "97d49f7f-ac91-4fbf-971a-b912418d882e"
      },
      "execution_count": 5,
      "outputs": [
        {
          "output_type": "stream",
          "name": "stdout",
          "text": [
            "Original vector:\n",
            "[[2 1 1]\n",
            " [3 2 1]\n",
            " [3 0 0]\n",
            " [1 2 0]\n",
            " [3 3 1]\n",
            " [2 0 0]\n",
            " [0 3 1]\n",
            " [2 1 2]\n",
            " [2 3 3]\n",
            " [2 0 3]]\n",
            "\n",
            "Rows with unequal values:\n",
            "[[2 1 1]\n",
            " [3 2 1]\n",
            " [3 0 0]\n",
            " [1 2 0]\n",
            " [3 3 1]\n",
            " [2 0 0]\n",
            " [0 3 1]\n",
            " [2 1 2]\n",
            " [2 3 3]\n",
            " [2 0 3]]\n"
          ]
        }
      ]
    },
    {
      "cell_type": "markdown",
      "source": [],
      "metadata": {
        "id": "si17lHVrdBcb"
      }
    },
    {
      "cell_type": "markdown",
      "source": [
        "95. Convert a vector of ints into a matrix binary representation (★★★)"
      ],
      "metadata": {
        "id": "4V-mgid9dBjl"
      }
    },
    {
      "cell_type": "code",
      "source": [
        "\n",
        "# the array\n",
        "I = np.array([0, 1, 2, 3, 15, 16, 32, 64, 128])\n",
        "\n",
        "B = ((I.reshape(-1,1) & (2**np.arange(8))) != 0).astype(int)\n",
        "print(B[:,::-1])"
      ],
      "metadata": {
        "colab": {
          "base_uri": "https://localhost:8080/"
        },
        "id": "laTMZUfSdI0N",
        "outputId": "33a50bcb-6cdc-49a7-9e56-5d5a859e2522"
      },
      "execution_count": 7,
      "outputs": [
        {
          "output_type": "stream",
          "name": "stdout",
          "text": [
            "[[0 0 0 0 0 0 0 0]\n",
            " [0 0 0 0 0 0 0 1]\n",
            " [0 0 0 0 0 0 1 0]\n",
            " [0 0 0 0 0 0 1 1]\n",
            " [0 0 0 0 1 1 1 1]\n",
            " [0 0 0 1 0 0 0 0]\n",
            " [0 0 1 0 0 0 0 0]\n",
            " [0 1 0 0 0 0 0 0]\n",
            " [1 0 0 0 0 0 0 0]]\n"
          ]
        }
      ]
    },
    {
      "cell_type": "markdown",
      "source": [
        "Given a two dimensional array, how to extract unique rows"
      ],
      "metadata": {
        "id": "VTVA0NwPiH61"
      }
    },
    {
      "cell_type": "code",
      "source": [
        "# Create a 2D numpy array\n",
        "arr1 = np.array([[11, 11, 12, 11],\n",
        "                     [13, 11, 12, 11],\n",
        "                     [16, 11, 12, 11],\n",
        "                     [11, 11, 12, 11]])\n",
        "\n",
        "uniqueRows = np.unique(arr1, axis=0)\n",
        "\n",
        "\n",
        "# print the output result\n",
        "print('Unique Rows:',\n",
        "      uniqueRows, sep = '\\n')"
      ],
      "metadata": {
        "colab": {
          "base_uri": "https://localhost:8080/"
        },
        "id": "WE67e2rBikBR",
        "outputId": "68a5d8b9-3890-453e-e4f8-c6953d25ce7d"
      },
      "execution_count": 9,
      "outputs": [
        {
          "output_type": "stream",
          "name": "stdout",
          "text": [
            "Unique Rows:\n",
            "[[11 11 12 11]\n",
            " [13 11 12 11]\n",
            " [16 11 12 11]]\n"
          ]
        }
      ]
    },
    {
      "cell_type": "markdown",
      "source": [
        "7. Considering 2 vectors A & B, write the einsum equivalent of inner, outer, sum, and mul function (★★★"
      ],
      "metadata": {
        "id": "J4sAJPTziH_l"
      }
    },
    {
      "cell_type": "code",
      "source": [
        "A = np.random.uniform(0,1,10)\n",
        "print(A)\n",
        "B = np.random.uniform(0,1,10)\n",
        "print(B)\n",
        "print(\"sum\")\n",
        "np.einsum('i->', A)       # np.sum(A)\n",
        "print(\"mul\")\n",
        "np.einsum('i,i->i', A, B) # A * B\n",
        "print(\"inner\")\n",
        "np.einsum('i,i', A, B)    # np.inner(A, B)\n",
        "print(\"outer\")\n",
        "np.einsum('i,j->ij', A, B)    # np.outer(A, B)"
      ],
      "metadata": {
        "colab": {
          "base_uri": "https://localhost:8080/"
        },
        "id": "iAKbIyOgjc70",
        "outputId": "a35bcb8b-e5b3-4686-d58f-38f23cd0535d"
      },
      "execution_count": 11,
      "outputs": [
        {
          "output_type": "stream",
          "name": "stdout",
          "text": [
            "[0.15309136 0.20132529 0.68697262 0.38658426 0.30996558 0.94915637\n",
            " 0.6066771  0.568745   0.61954245 0.84551499]\n",
            "[0.08309006 0.18497903 0.28203452 0.8709397  0.47747704 0.38673165\n",
            " 0.98065313 0.67821376 0.88580762 0.8379003 ]\n",
            "sum\n",
            "mul\n",
            "inner\n",
            "outer\n"
          ]
        },
        {
          "output_type": "execute_result",
          "data": {
            "text/plain": [
              "array([[0.01272037, 0.02831869, 0.04317705, 0.13333334, 0.07309761,\n",
              "        0.05920527, 0.15012952, 0.10382866, 0.13560949, 0.12827529],\n",
              "       [0.01672813, 0.03724096, 0.05678068, 0.17534218, 0.0961282 ,\n",
              "        0.07785886, 0.19743027, 0.13654158, 0.17833547, 0.16869052],\n",
              "       [0.0570806 , 0.12707553, 0.19374999, 0.59831173, 0.32801366,\n",
              "        0.26567406, 0.67368185, 0.46591428, 0.60852558, 0.57561456],\n",
              "       [0.03212131, 0.07150998, 0.10903011, 0.33669158, 0.18458511,\n",
              "        0.14950437, 0.37910506, 0.26218676, 0.34243928, 0.32391906],\n",
              "       [0.02575506, 0.05733713, 0.08742099, 0.26996132, 0.14800145,\n",
              "        0.1198735 , 0.30396871, 0.21022292, 0.27456987, 0.25972025],\n",
              "       [0.07886546, 0.17557402, 0.26769486, 0.82665796, 0.45320038,\n",
              "        0.36706881, 0.93079317, 0.64373091, 0.84076995, 0.79529841],\n",
              "       [0.05040884, 0.11222254, 0.17110388, 0.52837917, 0.28967439,\n",
              "        0.23462124, 0.5949398 , 0.41145675, 0.5373992 , 0.50833492],\n",
              "       [0.04725706, 0.1052059 , 0.16040572, 0.4953426 , 0.27156268,\n",
              "        0.21995169, 0.55774157, 0.38573069, 0.50379866, 0.47655161],\n",
              "       [0.05147782, 0.11460236, 0.17473236, 0.53958412, 0.2958173 ,\n",
              "        0.23959668, 0.60755625, 0.42018222, 0.54879543, 0.51911481],\n",
              "       [0.07025389, 0.15640254, 0.23846441, 0.73639257, 0.403714  ,\n",
              "        0.32698741, 0.82915692, 0.5734399 , 0.74896362, 0.70845726]])"
            ]
          },
          "metadata": {},
          "execution_count": 11
        }
      ]
    },
    {
      "cell_type": "markdown",
      "source": [
        "98. Considering a path described by two vectors (X,Y), how to sample it using equidistant samples (★★★)?\n"
      ],
      "metadata": {
        "id": "c9UlN3J1iILY"
      }
    },
    {
      "cell_type": "markdown",
      "source": [
        "99. Given an integer n and a 2D array X, select from X the rows which can be interpreted as draws from a multinomial distribution with n degrees, i.e., the rows which only contain integers and which sum to n."
      ],
      "metadata": {
        "id": "QRkaYQpMiIcH"
      }
    },
    {
      "cell_type": "markdown",
      "source": [
        "100. Compute bootstrapped 95% confidence intervals for the mean of a 1D array X (i.e., resample the elements of an array with replacement N times, compute the mean of each sample, and then compute percentiles over the means)."
      ],
      "metadata": {
        "id": "p0erP5YGl7U_"
      }
    },
    {
      "cell_type": "markdown",
      "source": [],
      "metadata": {
        "id": "U8hKGy5Ol78T"
      }
    }
  ]
}