{
  "nbformat": 4,
  "nbformat_minor": 0,
  "metadata": {
    "colab": {
      "provenance": []
    },
    "kernelspec": {
      "name": "python3",
      "display_name": "Python 3"
    },
    "language_info": {
      "name": "python"
    }
  },
  "cells": [
    {
      "cell_type": "code",
      "execution_count": null,
      "metadata": {
        "id": "9fUaZdAk-x0s"
      },
      "outputs": [],
      "source": []
    },
    {
      "cell_type": "markdown",
      "source": [
        "16. How to add a border (filled with 0's) around an existing array? (★☆☆)\n"
      ],
      "metadata": {
        "id": "TC2F3nJT_o2F"
      }
    },
    {
      "cell_type": "code",
      "source": [
        "import numpy as np\n",
        "Z = np.ones((4, 5))\n",
        "print(Z)\n",
        "Z = np.pad(Z, pad_width=1, mode='constant', constant_values=0)\n",
        "print(Z)"
      ],
      "metadata": {
        "colab": {
          "base_uri": "https://localhost:8080/"
        },
        "id": "7fL1GWXx_tQG",
        "outputId": "18350ad3-3821-43cd-ceb2-d6384345d07c"
      },
      "execution_count": null,
      "outputs": [
        {
          "output_type": "stream",
          "name": "stdout",
          "text": [
            "[[1. 1. 1. 1. 1.]\n",
            " [1. 1. 1. 1. 1.]\n",
            " [1. 1. 1. 1. 1.]\n",
            " [1. 1. 1. 1. 1.]]\n",
            "[[0. 0. 0. 0. 0. 0. 0.]\n",
            " [0. 1. 1. 1. 1. 1. 0.]\n",
            " [0. 1. 1. 1. 1. 1. 0.]\n",
            " [0. 1. 1. 1. 1. 1. 0.]\n",
            " [0. 1. 1. 1. 1. 1. 0.]\n",
            " [0. 0. 0. 0. 0. 0. 0.]]\n"
          ]
        }
      ]
    },
    {
      "cell_type": "markdown",
      "source": [
        "17.\n",
        "0 * np.nan\n",
        "np.nan == np.nan\n",
        "np.inf > np.nan\n",
        "np.nan - np.nan\n",
        "np.nan in set([np.nan])\n",
        "0.3 == 3 * 0.1\n",
        "\n",
        "```\n",
        "# This is formatted as code\n",
        "```\n",
        "\n"
      ],
      "metadata": {
        "id": "hr_WdwNw_pe1"
      }
    },
    {
      "cell_type": "code",
      "source": [
        "0 * np.nan\n",
        "np.nan == np.nan\n",
        "np.inf > np.nan\n",
        "np.nan - np.nan\n",
        "np.nan in set([np.nan])\n",
        "0.3 == 3 * 0.1"
      ],
      "metadata": {
        "colab": {
          "base_uri": "https://localhost:8080/"
        },
        "id": "hXPQAXvBCOGU",
        "outputId": "eba10d3d-48b8-469a-88c7-9586da1a398d"
      },
      "execution_count": null,
      "outputs": [
        {
          "output_type": "execute_result",
          "data": {
            "text/plain": [
              "False"
            ]
          },
          "metadata": {},
          "execution_count": 7
        }
      ]
    },
    {
      "cell_type": "markdown",
      "source": [
        "Create a 5x5 matrix with values 1,2,3,4 just below the diagonal"
      ],
      "metadata": {
        "id": "Tr5BBp3C_p4L"
      }
    },
    {
      "cell_type": "code",
      "source": [
        "# using np.diag()\n",
        "x = np.diag(1+np.arange(4), k = -1)\n",
        "\n",
        "# Printing the diagonal matrix 'x'\n",
        "print(x)"
      ],
      "metadata": {
        "colab": {
          "base_uri": "https://localhost:8080/"
        },
        "id": "a8vtWobpEBLL",
        "outputId": "e1edbfe5-4e90-44d7-b667-e901e5c9dda7"
      },
      "execution_count": null,
      "outputs": [
        {
          "output_type": "stream",
          "name": "stdout",
          "text": [
            "[[0 0 0 0 0]\n",
            " [1 0 0 0 0]\n",
            " [0 2 0 0 0]\n",
            " [0 0 3 0 0]\n",
            " [0 0 0 4 0]]\n"
          ]
        }
      ]
    },
    {
      "cell_type": "markdown",
      "source": [
        "Create a 8x8 matrix and fill it with a checkerboard pattern"
      ],
      "metadata": {
        "id": "VRZWt4di_p-u"
      }
    },
    {
      "cell_type": "code",
      "source": [
        "#create the array\n",
        "Z = np.zeros ((8,8), dtype=int)\n",
        "#Z[1::2, ::2] = 1 : Slice from 1st index row till 1+2+2… and fill all columns with 1 starting from 0th to 0+2+2… and so on.\n",
        "#Z[::2, 1::2] = 1 : Slice from 0th row till 0+2+2… and fill all columns with 1 starting from 1 to 1+2+2+…..\n",
        "Z[1::2, ::2]= 1\n",
        "Z[::2, 1::2] = 1\n",
        "print (Z)"
      ],
      "metadata": {
        "colab": {
          "base_uri": "https://localhost:8080/"
        },
        "id": "LugdcODsE2TB",
        "outputId": "2e2351dc-730d-41b7-f0de-684207f038c9"
      },
      "execution_count": null,
      "outputs": [
        {
          "output_type": "stream",
          "name": "stdout",
          "text": [
            "[[0 1 0 1 0 1 0 1]\n",
            " [1 0 1 0 1 0 1 0]\n",
            " [0 1 0 1 0 1 0 1]\n",
            " [1 0 1 0 1 0 1 0]\n",
            " [0 1 0 1 0 1 0 1]\n",
            " [1 0 1 0 1 0 1 0]\n",
            " [0 1 0 1 0 1 0 1]\n",
            " [1 0 1 0 1 0 1 0]]\n"
          ]
        }
      ]
    },
    {
      "cell_type": "markdown",
      "source": [
        "Consider a (6,7,8) shape array, what is the index (x,y,z) of the 100th element"
      ],
      "metadata": {
        "id": "R3ZeSin9_qGX"
      }
    },
    {
      "cell_type": "code",
      "source": [
        "#use the unravel command\n",
        "index = np.unravel_index(100, (6,7,8))\n",
        "print (index)"
      ],
      "metadata": {
        "colab": {
          "base_uri": "https://localhost:8080/"
        },
        "id": "_fDL0CrYGnc5",
        "outputId": "5fc71420-6dfd-4cc4-d839-6781aa3e24c2"
      },
      "execution_count": null,
      "outputs": [
        {
          "output_type": "stream",
          "name": "stdout",
          "text": [
            "(1, 5, 4)\n"
          ]
        }
      ]
    },
    {
      "cell_type": "markdown",
      "source": [
        "21. Create a checkerboard 8x8 matrix using the tile function (★☆☆)\n"
      ],
      "metadata": {
        "id": "0tC1kRdS_qNk"
      }
    },
    {
      "cell_type": "code",
      "source": [
        "W = np.tile( np.array([[0,1],[1,0]]), (4,4))\n",
        "#creates an array 0,1 1,0 and is repeating 4 times\n",
        "print(W)"
      ],
      "metadata": {
        "colab": {
          "base_uri": "https://localhost:8080/"
        },
        "id": "EGSobRR8LoE8",
        "outputId": "b3720958-ec16-4288-a75e-cf824f1ad93b"
      },
      "execution_count": null,
      "outputs": [
        {
          "output_type": "stream",
          "name": "stdout",
          "text": [
            "[[0 1 0 1 0 1 0 1]\n",
            " [1 0 1 0 1 0 1 0]\n",
            " [0 1 0 1 0 1 0 1]\n",
            " [1 0 1 0 1 0 1 0]\n",
            " [0 1 0 1 0 1 0 1]\n",
            " [1 0 1 0 1 0 1 0]\n",
            " [0 1 0 1 0 1 0 1]\n",
            " [1 0 1 0 1 0 1 0]]\n"
          ]
        }
      ]
    },
    {
      "cell_type": "markdown",
      "source": [
        "22. Normalize a 5x5 random matrix"
      ],
      "metadata": {
        "id": "nNYG4kNq_qX0"
      }
    },
    {
      "cell_type": "code",
      "source": [
        "n = np.random.random((5, 5))\n",
        "print(\"Original array\")\n",
        "print(n)\n",
        "# Finding the max and min values in array 'n' using n.max() and n.min()\n",
        "nmax, nmin = n.max(), n.min()\n",
        "# to adjust the values in the array so that they fall within a certain range,\n",
        "# typically between 0 and 1, or so that they\n",
        "#have a standard normal distribution with a mean of 0 and a standard deviation of 1.\n",
        "\n",
        "# Normalizing the array 'n' using min-max scaling: (n - nmin) / (nmax - nmin)\n",
        "n = (n - nmin) / (nmax - nmin)\n",
        "\n",
        "print(\"normalized\")\n",
        "print(n)"
      ],
      "metadata": {
        "colab": {
          "base_uri": "https://localhost:8080/"
        },
        "id": "A4qz-qfgPF6F",
        "outputId": "807cceb0-446a-40c7-bed3-22a604b0101a"
      },
      "execution_count": null,
      "outputs": [
        {
          "output_type": "stream",
          "name": "stdout",
          "text": [
            "Original array\n",
            "[[0.78365942 0.11667694 0.90399734 0.58519236 0.75968651]\n",
            " [0.95886339 0.80684879 0.35861113 0.64607807 0.11964286]\n",
            " [0.14974376 0.83679108 0.4446012  0.87587139 0.91870377]\n",
            " [0.24094091 0.17690279 0.45505226 0.71262198 0.78041012]\n",
            " [0.04259861 0.1470989  0.48781252 0.06110559 0.04007594]]\n",
            "normalized\n",
            "[[0.80930958 0.08337184 0.94028429 0.59329981 0.78321767]\n",
            " [1.         0.83454868 0.34669083 0.65956727 0.08659992]\n",
            " [0.11936147 0.8671376  0.44028166 0.90967225 0.95629064]\n",
            " [0.21861963 0.14892111 0.45165649 0.73199306 0.80577307]\n",
            " [0.00274565 0.11648283 0.48731247 0.02288849 0.        ]]\n"
          ]
        }
      ]
    },
    {
      "cell_type": "markdown",
      "source": [
        "Create a custom dtype that describes a color as four unsigned bytes (RGBA)"
      ],
      "metadata": {
        "id": "Y2W0lWhoRB9i"
      }
    },
    {
      "cell_type": "code",
      "source": [
        "color = np.dtype([(\"r\", np.ubyte),(\"g\", np.ubyte),(\"b\", np.ubyte),(\"a\", np.ubyte)])\n"
      ],
      "metadata": {
        "id": "Nnhxc_a4RDxe"
      },
      "execution_count": null,
      "outputs": []
    },
    {
      "cell_type": "markdown",
      "source": [
        "24. Multiply a 5x3 matrix by a 3x2 matrix (real matrix product) (★☆☆)\n"
      ],
      "metadata": {
        "id": "z7Pjlf_gTnTU"
      }
    },
    {
      "cell_type": "code",
      "source": [
        "# random array of shape (5, 3)\n",
        "b = np.random.random((5,3))\n",
        "print(\"First array:\")\n",
        "print(b)\n",
        "\n",
        "# random array of shape (3, 2)\n",
        "c = np.random.random((3,2))\n",
        "print(\"Second array:\")\n",
        "print(c)\n",
        "\n",
        "# Computing the dot product of the two arrays\n",
        "d = np.dot(b, c)\n",
        "\n",
        "# Displaying result\n",
        "print(\"Real matrix product is:\")\n",
        "print(d)"
      ],
      "metadata": {
        "colab": {
          "base_uri": "https://localhost:8080/"
        },
        "id": "_eaFvJwLUHZj",
        "outputId": "8bab32f1-61dc-4ce3-e1fa-b4670eeab627"
      },
      "execution_count": null,
      "outputs": [
        {
          "output_type": "stream",
          "name": "stdout",
          "text": [
            "First array:\n",
            "[[0.94225373 0.74781143 0.25006114]\n",
            " [0.93015699 0.34639816 0.20787299]\n",
            " [0.65975601 0.61982098 0.49290909]\n",
            " [0.43835229 0.05899221 0.4815432 ]\n",
            " [0.4978257  0.85541451 0.67884807]]\n",
            "Second array:\n",
            "[[0.70160965 0.90601584]\n",
            " [0.28142723 0.05973993]\n",
            " [0.75683561 0.68597049]]\n",
            "Real matrix product is:\n",
            "[[1.06080399 1.06990557]\n",
            " [0.90741869 1.00602551]\n",
            " [1.01037684 0.97289855]\n",
            " [0.68860326 0.73100274]\n",
            " [1.10379265 0.96781011]]\n"
          ]
        }
      ]
    },
    {
      "cell_type": "markdown",
      "source": [
        "Given a 1D array, negate all elements which are between 3 and 8, in place."
      ],
      "metadata": {
        "id": "D_dTsYo-VEmS"
      }
    },
    {
      "cell_type": "code",
      "source": [
        "#create the array 0-12\n",
        "x= np.arange(12)\n",
        "#check values btw 3&8 and negate\n",
        "x[(3 < x) & (x < 8)] *= -1\n",
        "print(x)"
      ],
      "metadata": {
        "colab": {
          "base_uri": "https://localhost:8080/"
        },
        "id": "apf3N4_9ZQi_",
        "outputId": "7b60fbc2-7be6-406e-b961-22b0656f1efc"
      },
      "execution_count": null,
      "outputs": [
        {
          "output_type": "stream",
          "name": "stdout",
          "text": [
            "[ 0  1  2  3 -4 -5 -6 -7  8  9 10 11]\n"
          ]
        }
      ]
    },
    {
      "cell_type": "markdown",
      "source": [
        "print(sum(range(5),-1))\n",
        "from numpy import *\n",
        "print(sum(range(5),-1))"
      ],
      "metadata": {
        "id": "Pc60Mr8PaAmI"
      }
    },
    {
      "cell_type": "code",
      "source": [
        "print(sum(range(5),-1))\n",
        "from numpy import *\n",
        "print(sum(range(5),-1))"
      ],
      "metadata": {
        "colab": {
          "base_uri": "https://localhost:8080/"
        },
        "id": "FcL5gupmaCo6",
        "outputId": "2ebd9a20-5ec2-4205-ba8a-05447aae049b"
      },
      "execution_count": null,
      "outputs": [
        {
          "output_type": "stream",
          "name": "stdout",
          "text": [
            "9\n",
            "10\n"
          ]
        }
      ]
    },
    {
      "cell_type": "markdown",
      "source": [
        "27. Consider an integer vector Z, which of these expressions are legal? (★☆☆)\n",
        "Z**Z\n",
        "2 << Z >> 2\n",
        "Z <- Z\n",
        "1j*Z\n",
        "Z/1/1\n",
        "Z<Z>Z"
      ],
      "metadata": {
        "id": "8VV8zlOqaWt3"
      }
    },
    {
      "cell_type": "code",
      "source": [
        "2 << Z >> 2\n"
      ],
      "metadata": {
        "colab": {
          "base_uri": "https://localhost:8080/"
        },
        "id": "cdkdESWzazRG",
        "outputId": "5252ab79-61a4-4caf-9178-47e6efe88cb4"
      },
      "execution_count": 31,
      "outputs": [
        {
          "output_type": "execute_result",
          "data": {
            "text/plain": [
              "array([   0,    1,    2,    4,    0,    0,    0,    0,  128,  256,  512,\n",
              "       1024, 2048, 4096, 8192])"
            ]
          },
          "metadata": {},
          "execution_count": 31
        }
      ]
    },
    {
      "cell_type": "markdown",
      "source": [
        "28. What are the result of the following expressions?\n",
        "np.array(0) / np.array(0)\n",
        "np.array(0) // np.array(0)\n",
        "np.array([np.nan]).astype(int).astype(float)"
      ],
      "metadata": {
        "id": "EKP4ji4hb9Az"
      }
    },
    {
      "cell_type": "code",
      "source": [
        "np.array(0) / np.array(0)\n",
        "np.array(0) // np.array(0)\n",
        "np.array([np.nan]).astype(int).astype(float)"
      ],
      "metadata": {
        "colab": {
          "base_uri": "https://localhost:8080/"
        },
        "id": "3cc01LmYcAC-",
        "outputId": "0926f4bc-f769-4b42-ec19-59d4bf726c0e"
      },
      "execution_count": 32,
      "outputs": [
        {
          "output_type": "stream",
          "name": "stderr",
          "text": [
            "<ipython-input-32-cd809174da5d>:1: RuntimeWarning: invalid value encountered in divide\n",
            "  np.array(0) / np.array(0)\n",
            "<ipython-input-32-cd809174da5d>:2: RuntimeWarning: divide by zero encountered in floor_divide\n",
            "  np.array(0) // np.array(0)\n",
            "<ipython-input-32-cd809174da5d>:3: RuntimeWarning: invalid value encountered in cast\n",
            "  np.array([np.nan]).astype(int).astype(float)\n"
          ]
        },
        {
          "output_type": "execute_result",
          "data": {
            "text/plain": [
              "array([-9.22337204e+18])"
            ]
          },
          "metadata": {},
          "execution_count": 32
        }
      ]
    },
    {
      "cell_type": "markdown",
      "source": [
        "29. How to round away from zero a float array ?"
      ],
      "metadata": {
        "id": "Rbg1oP4acUVS"
      }
    },
    {
      "cell_type": "code",
      "source": [
        "# Create a float array\n",
        "array = np.array([-2.5, -1.8, 0.3, 1.5, 2.7])\n",
        "\n",
        "# Round the elements away from zero using numpy.ceil\n",
        "result = np.ceil(array)\n",
        "\n",
        "# Print the resulting array\n",
        "print(result)"
      ],
      "metadata": {
        "colab": {
          "base_uri": "https://localhost:8080/"
        },
        "id": "I3MNQq0Hc1AC",
        "outputId": "6d1142e0-4ef9-48d0-b16d-1d120f802941"
      },
      "execution_count": 34,
      "outputs": [
        {
          "output_type": "stream",
          "name": "stdout",
          "text": [
            "[-2. -1.  1.  2.  3.]\n"
          ]
        }
      ]
    },
    {
      "cell_type": "markdown",
      "source": [
        "How to find common values between two arrays?"
      ],
      "metadata": {
        "id": "HZUc5hcAdKCy"
      }
    },
    {
      "cell_type": "code",
      "source": [
        "arr1 = np.array([0, 1, 2, 3, 4, 5, 7, 9])\n",
        "arr2 = [1, 3, 4, 7, 9]\n",
        "\n",
        "# Common values between two arrays\n",
        "print(np.intersect1d(arr1, arr2))\n"
      ],
      "metadata": {
        "id": "N5GeHMsiaaO6",
        "colab": {
          "base_uri": "https://localhost:8080/"
        },
        "outputId": "98873003-f86b-4c46-c7c8-36dbc9f88c99"
      },
      "execution_count": 36,
      "outputs": [
        {
          "output_type": "stream",
          "name": "stdout",
          "text": [
            "[1 3 4 7 9]\n"
          ]
        }
      ]
    }
  ]
}